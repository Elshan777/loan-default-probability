{
 "cells": [
  {
   "cell_type": "markdown",
   "metadata": {},
   "source": [
    "# This notebook is for EDA"
   ]
  },
  {
   "cell_type": "markdown",
   "metadata": {},
   "source": [
    "## This notebook will include Data Exploration and preparation, missing value imputation, outlier detection and feature engineering"
   ]
  },
  {
   "cell_type": "markdown",
   "metadata": {},
   "source": [
    "### Load libraries and data"
   ]
  },
  {
   "cell_type": "code",
   "execution_count": 1,
   "metadata": {},
   "outputs": [],
   "source": [
    "import numpy as np\n",
    "import pandas as pd\n",
    "import seaborn as sns\n",
    "import matplotlib.pyplot as plt"
   ]
  },
  {
   "cell_type": "code",
   "execution_count": 2,
   "metadata": {},
   "outputs": [],
   "source": [
    "df = pd.read_csv('train.csv')"
   ]
  },
  {
   "cell_type": "code",
   "execution_count": 7,
   "metadata": {},
   "outputs": [
    {
     "data": {
      "text/plain": [
       "(72161, 12)"
      ]
     },
     "execution_count": 7,
     "metadata": {},
     "output_type": "execute_result"
    }
   ],
   "source": [
    "df.shape"
   ]
  },
  {
   "cell_type": "markdown",
   "metadata": {},
   "source": [
    "The dataset has 72161 rows and 12 columns"
   ]
  },
  {
   "cell_type": "markdown",
   "metadata": {},
   "source": [
    "Lets check the columns"
   ]
  },
  {
   "cell_type": "code",
   "execution_count": 4,
   "metadata": {},
   "outputs": [
    {
     "data": {
      "text/plain": [
       "Index(['Id', 'age', 'number_dependent_family_members', 'monthly_income',\n",
       "       'number_of_credit_lines', 'real_estate_loans',\n",
       "       'ratio_debt_payment_to_income', 'credit_line_utilization',\n",
       "       'number_of_previous_late_payments_up_to_59_days',\n",
       "       'number_of_previous_late_payments_up_to_89_days',\n",
       "       'number_of_previous_late_payments_90_days_or_more',\n",
       "       'defaulted_on_loan'],\n",
       "      dtype='object')"
      ]
     },
     "execution_count": 4,
     "metadata": {},
     "output_type": "execute_result"
    }
   ],
   "source": [
    "df.columns"
   ]
  },
  {
   "cell_type": "code",
   "execution_count": 5,
   "metadata": {
    "scrolled": true
   },
   "outputs": [
    {
     "data": {
      "text/html": [
       "<div>\n",
       "<style scoped>\n",
       "    .dataframe tbody tr th:only-of-type {\n",
       "        vertical-align: middle;\n",
       "    }\n",
       "\n",
       "    .dataframe tbody tr th {\n",
       "        vertical-align: top;\n",
       "    }\n",
       "\n",
       "    .dataframe thead th {\n",
       "        text-align: right;\n",
       "    }\n",
       "</style>\n",
       "<table border=\"1\" class=\"dataframe\">\n",
       "  <thead>\n",
       "    <tr style=\"text-align: right;\">\n",
       "      <th></th>\n",
       "      <th>Id</th>\n",
       "      <th>age</th>\n",
       "      <th>number_dependent_family_members</th>\n",
       "      <th>monthly_income</th>\n",
       "      <th>number_of_credit_lines</th>\n",
       "      <th>real_estate_loans</th>\n",
       "      <th>ratio_debt_payment_to_income</th>\n",
       "      <th>credit_line_utilization</th>\n",
       "      <th>number_of_previous_late_payments_up_to_59_days</th>\n",
       "      <th>number_of_previous_late_payments_up_to_89_days</th>\n",
       "      <th>number_of_previous_late_payments_90_days_or_more</th>\n",
       "      <th>defaulted_on_loan</th>\n",
       "    </tr>\n",
       "  </thead>\n",
       "  <tbody>\n",
       "    <tr>\n",
       "      <th>0</th>\n",
       "      <td>1</td>\n",
       "      <td>66.0</td>\n",
       "      <td>NaN</td>\n",
       "      <td>4000.0</td>\n",
       "      <td>NaN</td>\n",
       "      <td>1.0</td>\n",
       "      <td>0.569108</td>\n",
       "      <td>0.05488766900000001</td>\n",
       "      <td>0.0</td>\n",
       "      <td>0.0</td>\n",
       "      <td>0.0</td>\n",
       "      <td>0</td>\n",
       "    </tr>\n",
       "    <tr>\n",
       "      <th>1</th>\n",
       "      <td>2</td>\n",
       "      <td>61.0</td>\n",
       "      <td>2.0</td>\n",
       "      <td>4000.0</td>\n",
       "      <td>6.0</td>\n",
       "      <td>1.0</td>\n",
       "      <td>0.297176</td>\n",
       "      <td>0.10194991099999999</td>\n",
       "      <td>0.0</td>\n",
       "      <td>0.0</td>\n",
       "      <td>0.0</td>\n",
       "      <td>0</td>\n",
       "    </tr>\n",
       "    <tr>\n",
       "      <th>2</th>\n",
       "      <td>3</td>\n",
       "      <td>31.0</td>\n",
       "      <td>2.0</td>\n",
       "      <td>3040.0</td>\n",
       "      <td>8.0</td>\n",
       "      <td>0.0</td>\n",
       "      <td>0.160145</td>\n",
       "      <td>1.22713507</td>\n",
       "      <td>4.0</td>\n",
       "      <td>0.0</td>\n",
       "      <td>0.0</td>\n",
       "      <td>1</td>\n",
       "    </tr>\n",
       "    <tr>\n",
       "      <th>3</th>\n",
       "      <td>4</td>\n",
       "      <td>54.0</td>\n",
       "      <td>4.0</td>\n",
       "      <td>10218.0</td>\n",
       "      <td>5.0</td>\n",
       "      <td>0.0</td>\n",
       "      <td>0.067913</td>\n",
       "      <td>0.08327777900000001</td>\n",
       "      <td>0.0</td>\n",
       "      <td>0.0</td>\n",
       "      <td>0.0</td>\n",
       "      <td>0</td>\n",
       "    </tr>\n",
       "    <tr>\n",
       "      <th>4</th>\n",
       "      <td>5</td>\n",
       "      <td>29.0</td>\n",
       "      <td>0.0</td>\n",
       "      <td>4468.0</td>\n",
       "      <td>6.0</td>\n",
       "      <td>0.0</td>\n",
       "      <td>0.328261</td>\n",
       "      <td>0.317445504</td>\n",
       "      <td>0.0</td>\n",
       "      <td>0.0</td>\n",
       "      <td>0.0</td>\n",
       "      <td>0</td>\n",
       "    </tr>\n",
       "  </tbody>\n",
       "</table>\n",
       "</div>"
      ],
      "text/plain": [
       "   Id   age  number_dependent_family_members  monthly_income  \\\n",
       "0   1  66.0                              NaN          4000.0   \n",
       "1   2  61.0                              2.0          4000.0   \n",
       "2   3  31.0                              2.0          3040.0   \n",
       "3   4  54.0                              4.0         10218.0   \n",
       "4   5  29.0                              0.0          4468.0   \n",
       "\n",
       "   number_of_credit_lines  real_estate_loans  ratio_debt_payment_to_income  \\\n",
       "0                     NaN                1.0                      0.569108   \n",
       "1                     6.0                1.0                      0.297176   \n",
       "2                     8.0                0.0                      0.160145   \n",
       "3                     5.0                0.0                      0.067913   \n",
       "4                     6.0                0.0                      0.328261   \n",
       "\n",
       "  credit_line_utilization  number_of_previous_late_payments_up_to_59_days  \\\n",
       "0     0.05488766900000001                                             0.0   \n",
       "1     0.10194991099999999                                             0.0   \n",
       "2              1.22713507                                             4.0   \n",
       "3     0.08327777900000001                                             0.0   \n",
       "4             0.317445504                                             0.0   \n",
       "\n",
       "   number_of_previous_late_payments_up_to_89_days  \\\n",
       "0                                             0.0   \n",
       "1                                             0.0   \n",
       "2                                             0.0   \n",
       "3                                             0.0   \n",
       "4                                             0.0   \n",
       "\n",
       "   number_of_previous_late_payments_90_days_or_more  defaulted_on_loan  \n",
       "0                                               0.0                  0  \n",
       "1                                               0.0                  0  \n",
       "2                                               0.0                  1  \n",
       "3                                               0.0                  0  \n",
       "4                                               0.0                  0  "
      ]
     },
     "execution_count": 5,
     "metadata": {},
     "output_type": "execute_result"
    }
   ],
   "source": [
    "df.head(5)"
   ]
  },
  {
   "cell_type": "code",
   "execution_count": 6,
   "metadata": {},
   "outputs": [
    {
     "data": {
      "text/html": [
       "<div>\n",
       "<style scoped>\n",
       "    .dataframe tbody tr th:only-of-type {\n",
       "        vertical-align: middle;\n",
       "    }\n",
       "\n",
       "    .dataframe tbody tr th {\n",
       "        vertical-align: top;\n",
       "    }\n",
       "\n",
       "    .dataframe thead th {\n",
       "        text-align: right;\n",
       "    }\n",
       "</style>\n",
       "<table border=\"1\" class=\"dataframe\">\n",
       "  <thead>\n",
       "    <tr style=\"text-align: right;\">\n",
       "      <th></th>\n",
       "      <th>Id</th>\n",
       "      <th>age</th>\n",
       "      <th>number_dependent_family_members</th>\n",
       "      <th>monthly_income</th>\n",
       "      <th>number_of_credit_lines</th>\n",
       "      <th>real_estate_loans</th>\n",
       "      <th>ratio_debt_payment_to_income</th>\n",
       "      <th>number_of_previous_late_payments_up_to_59_days</th>\n",
       "      <th>number_of_previous_late_payments_up_to_89_days</th>\n",
       "      <th>number_of_previous_late_payments_90_days_or_more</th>\n",
       "      <th>defaulted_on_loan</th>\n",
       "    </tr>\n",
       "  </thead>\n",
       "  <tbody>\n",
       "    <tr>\n",
       "      <th>count</th>\n",
       "      <td>72161.000000</td>\n",
       "      <td>65017.000000</td>\n",
       "      <td>67945.000000</td>\n",
       "      <td>6.614500e+04</td>\n",
       "      <td>66007.000000</td>\n",
       "      <td>68355.000000</td>\n",
       "      <td>66553.000000</td>\n",
       "      <td>67966.000000</td>\n",
       "      <td>66316.000000</td>\n",
       "      <td>68540.000000</td>\n",
       "      <td>72161.000000</td>\n",
       "    </tr>\n",
       "    <tr>\n",
       "      <th>mean</th>\n",
       "      <td>36081.000000</td>\n",
       "      <td>51.388914</td>\n",
       "      <td>0.847009</td>\n",
       "      <td>6.624388e+03</td>\n",
       "      <td>8.756193</td>\n",
       "      <td>1.050296</td>\n",
       "      <td>26.524005</td>\n",
       "      <td>0.393491</td>\n",
       "      <td>0.206074</td>\n",
       "      <td>0.224059</td>\n",
       "      <td>0.069470</td>\n",
       "    </tr>\n",
       "    <tr>\n",
       "      <th>std</th>\n",
       "      <td>20831.230725</td>\n",
       "      <td>14.414338</td>\n",
       "      <td>1.144038</td>\n",
       "      <td>1.084630e+04</td>\n",
       "      <td>5.198769</td>\n",
       "      <td>1.114420</td>\n",
       "      <td>399.253008</td>\n",
       "      <td>3.680686</td>\n",
       "      <td>3.696260</td>\n",
       "      <td>3.634436</td>\n",
       "      <td>0.254253</td>\n",
       "    </tr>\n",
       "    <tr>\n",
       "      <th>min</th>\n",
       "      <td>1.000000</td>\n",
       "      <td>21.000000</td>\n",
       "      <td>0.000000</td>\n",
       "      <td>0.000000e+00</td>\n",
       "      <td>0.000000</td>\n",
       "      <td>0.000000</td>\n",
       "      <td>0.000000</td>\n",
       "      <td>0.000000</td>\n",
       "      <td>0.000000</td>\n",
       "      <td>0.000000</td>\n",
       "      <td>0.000000</td>\n",
       "    </tr>\n",
       "    <tr>\n",
       "      <th>25%</th>\n",
       "      <td>18041.000000</td>\n",
       "      <td>41.000000</td>\n",
       "      <td>0.000000</td>\n",
       "      <td>3.400000e+03</td>\n",
       "      <td>5.000000</td>\n",
       "      <td>0.000000</td>\n",
       "      <td>0.141302</td>\n",
       "      <td>0.000000</td>\n",
       "      <td>0.000000</td>\n",
       "      <td>0.000000</td>\n",
       "      <td>0.000000</td>\n",
       "    </tr>\n",
       "    <tr>\n",
       "      <th>50%</th>\n",
       "      <td>36081.000000</td>\n",
       "      <td>51.000000</td>\n",
       "      <td>0.000000</td>\n",
       "      <td>5.400000e+03</td>\n",
       "      <td>8.000000</td>\n",
       "      <td>1.000000</td>\n",
       "      <td>0.294673</td>\n",
       "      <td>0.000000</td>\n",
       "      <td>0.000000</td>\n",
       "      <td>0.000000</td>\n",
       "      <td>0.000000</td>\n",
       "    </tr>\n",
       "    <tr>\n",
       "      <th>75%</th>\n",
       "      <td>54121.000000</td>\n",
       "      <td>62.000000</td>\n",
       "      <td>2.000000</td>\n",
       "      <td>8.232000e+03</td>\n",
       "      <td>11.000000</td>\n",
       "      <td>2.000000</td>\n",
       "      <td>0.480989</td>\n",
       "      <td>0.000000</td>\n",
       "      <td>0.000000</td>\n",
       "      <td>0.000000</td>\n",
       "      <td>0.000000</td>\n",
       "    </tr>\n",
       "    <tr>\n",
       "      <th>max</th>\n",
       "      <td>72161.000000</td>\n",
       "      <td>103.000000</td>\n",
       "      <td>13.000000</td>\n",
       "      <td>1.560100e+06</td>\n",
       "      <td>57.000000</td>\n",
       "      <td>25.000000</td>\n",
       "      <td>61106.500000</td>\n",
       "      <td>98.000000</td>\n",
       "      <td>98.000000</td>\n",
       "      <td>98.000000</td>\n",
       "      <td>1.000000</td>\n",
       "    </tr>\n",
       "  </tbody>\n",
       "</table>\n",
       "</div>"
      ],
      "text/plain": [
       "                 Id           age  number_dependent_family_members  \\\n",
       "count  72161.000000  65017.000000                     67945.000000   \n",
       "mean   36081.000000     51.388914                         0.847009   \n",
       "std    20831.230725     14.414338                         1.144038   \n",
       "min        1.000000     21.000000                         0.000000   \n",
       "25%    18041.000000     41.000000                         0.000000   \n",
       "50%    36081.000000     51.000000                         0.000000   \n",
       "75%    54121.000000     62.000000                         2.000000   \n",
       "max    72161.000000    103.000000                        13.000000   \n",
       "\n",
       "       monthly_income  number_of_credit_lines  real_estate_loans  \\\n",
       "count    6.614500e+04            66007.000000       68355.000000   \n",
       "mean     6.624388e+03                8.756193           1.050296   \n",
       "std      1.084630e+04                5.198769           1.114420   \n",
       "min      0.000000e+00                0.000000           0.000000   \n",
       "25%      3.400000e+03                5.000000           0.000000   \n",
       "50%      5.400000e+03                8.000000           1.000000   \n",
       "75%      8.232000e+03               11.000000           2.000000   \n",
       "max      1.560100e+06               57.000000          25.000000   \n",
       "\n",
       "       ratio_debt_payment_to_income  \\\n",
       "count                  66553.000000   \n",
       "mean                      26.524005   \n",
       "std                      399.253008   \n",
       "min                        0.000000   \n",
       "25%                        0.141302   \n",
       "50%                        0.294673   \n",
       "75%                        0.480989   \n",
       "max                    61106.500000   \n",
       "\n",
       "       number_of_previous_late_payments_up_to_59_days  \\\n",
       "count                                    67966.000000   \n",
       "mean                                         0.393491   \n",
       "std                                          3.680686   \n",
       "min                                          0.000000   \n",
       "25%                                          0.000000   \n",
       "50%                                          0.000000   \n",
       "75%                                          0.000000   \n",
       "max                                         98.000000   \n",
       "\n",
       "       number_of_previous_late_payments_up_to_89_days  \\\n",
       "count                                    66316.000000   \n",
       "mean                                         0.206074   \n",
       "std                                          3.696260   \n",
       "min                                          0.000000   \n",
       "25%                                          0.000000   \n",
       "50%                                          0.000000   \n",
       "75%                                          0.000000   \n",
       "max                                         98.000000   \n",
       "\n",
       "       number_of_previous_late_payments_90_days_or_more  defaulted_on_loan  \n",
       "count                                      68540.000000       72161.000000  \n",
       "mean                                           0.224059           0.069470  \n",
       "std                                            3.634436           0.254253  \n",
       "min                                            0.000000           0.000000  \n",
       "25%                                            0.000000           0.000000  \n",
       "50%                                            0.000000           0.000000  \n",
       "75%                                            0.000000           0.000000  \n",
       "max                                           98.000000           1.000000  "
      ]
     },
     "execution_count": 6,
     "metadata": {},
     "output_type": "execute_result"
    }
   ],
   "source": [
    "df.describe()"
   ]
  },
  {
   "cell_type": "code",
   "execution_count": 7,
   "metadata": {
    "scrolled": true
   },
   "outputs": [
    {
     "name": "stdout",
     "output_type": "stream",
     "text": [
      "<class 'pandas.core.frame.DataFrame'>\n",
      "RangeIndex: 72161 entries, 0 to 72160\n",
      "Data columns (total 12 columns):\n",
      " #   Column                                            Non-Null Count  Dtype  \n",
      "---  ------                                            --------------  -----  \n",
      " 0   Id                                                72161 non-null  int64  \n",
      " 1   age                                               65017 non-null  float64\n",
      " 2   number_dependent_family_members                   67945 non-null  float64\n",
      " 3   monthly_income                                    66145 non-null  float64\n",
      " 4   number_of_credit_lines                            66007 non-null  float64\n",
      " 5   real_estate_loans                                 68355 non-null  float64\n",
      " 6   ratio_debt_payment_to_income                      66553 non-null  float64\n",
      " 7   credit_line_utilization                           65815 non-null  object \n",
      " 8   number_of_previous_late_payments_up_to_59_days    67966 non-null  float64\n",
      " 9   number_of_previous_late_payments_up_to_89_days    66316 non-null  float64\n",
      " 10  number_of_previous_late_payments_90_days_or_more  68540 non-null  float64\n",
      " 11  defaulted_on_loan                                 72161 non-null  int64  \n",
      "dtypes: float64(9), int64(2), object(1)\n",
      "memory usage: 6.6+ MB\n"
     ]
    }
   ],
   "source": [
    "df.info()"
   ]
  },
  {
   "cell_type": "markdown",
   "metadata": {},
   "source": [
    "From all the columns *credit_line_utilization* is object the rest are numeric. Let's check *credit_line_utilization*"
   ]
  },
  {
   "cell_type": "code",
   "execution_count": 8,
   "metadata": {},
   "outputs": [
    {
     "data": {
      "text/plain": [
       "0        0.05488766900000001\n",
       "1        0.10194991099999999\n",
       "2                 1.22713507\n",
       "3        0.08327777900000001\n",
       "4                0.317445504\n",
       "                ...         \n",
       "72156            0.145213501\n",
       "72157            0.445703733\n",
       "72158            0.048434473\n",
       "72159            0.447265776\n",
       "72160     0.8737087640000001\n",
       "Name: credit_line_utilization, Length: 72161, dtype: object"
      ]
     },
     "execution_count": 8,
     "metadata": {},
     "output_type": "execute_result"
    }
   ],
   "source": [
    "df['credit_line_utilization']"
   ]
  },
  {
   "cell_type": "markdown",
   "metadata": {},
   "source": [
    "The column is numeric even though type is object. Lets convert it to float"
   ]
  },
  {
   "cell_type": "code",
   "execution_count": 9,
   "metadata": {},
   "outputs": [
    {
     "ename": "ValueError",
     "evalue": "could not convert string to float: '1,089820359'",
     "output_type": "error",
     "traceback": [
      "\u001b[1;31m---------------------------------------------------------------------------\u001b[0m",
      "\u001b[1;31mValueError\u001b[0m                                Traceback (most recent call last)",
      "\u001b[1;32m<ipython-input-9-2958b754dbcb>\u001b[0m in \u001b[0;36m<module>\u001b[1;34m\u001b[0m\n\u001b[1;32m----> 1\u001b[1;33m \u001b[0mdf\u001b[0m\u001b[1;33m[\u001b[0m\u001b[1;34m'credit_line_utilization'\u001b[0m\u001b[1;33m]\u001b[0m\u001b[1;33m.\u001b[0m\u001b[0mastype\u001b[0m\u001b[1;33m(\u001b[0m\u001b[0mfloat\u001b[0m\u001b[1;33m,\u001b[0m \u001b[0merrors\u001b[0m\u001b[1;33m=\u001b[0m\u001b[1;34m\"raise\"\u001b[0m\u001b[1;33m)\u001b[0m\u001b[1;33m\u001b[0m\u001b[1;33m\u001b[0m\u001b[0m\n\u001b[0m",
      "\u001b[1;32m~\\AppData\\Local\\Packages\\PythonSoftwareFoundation.Python.3.8_qbz5n2kfra8p0\\LocalCache\\local-packages\\Python38\\site-packages\\pandas\\core\\generic.py\u001b[0m in \u001b[0;36mastype\u001b[1;34m(self, dtype, copy, errors)\u001b[0m\n\u001b[0;32m   5872\u001b[0m         \u001b[1;32melse\u001b[0m\u001b[1;33m:\u001b[0m\u001b[1;33m\u001b[0m\u001b[1;33m\u001b[0m\u001b[0m\n\u001b[0;32m   5873\u001b[0m             \u001b[1;31m# else, only a single dtype is given\u001b[0m\u001b[1;33m\u001b[0m\u001b[1;33m\u001b[0m\u001b[1;33m\u001b[0m\u001b[0m\n\u001b[1;32m-> 5874\u001b[1;33m             \u001b[0mnew_data\u001b[0m \u001b[1;33m=\u001b[0m \u001b[0mself\u001b[0m\u001b[1;33m.\u001b[0m\u001b[0m_mgr\u001b[0m\u001b[1;33m.\u001b[0m\u001b[0mastype\u001b[0m\u001b[1;33m(\u001b[0m\u001b[0mdtype\u001b[0m\u001b[1;33m=\u001b[0m\u001b[0mdtype\u001b[0m\u001b[1;33m,\u001b[0m \u001b[0mcopy\u001b[0m\u001b[1;33m=\u001b[0m\u001b[0mcopy\u001b[0m\u001b[1;33m,\u001b[0m \u001b[0merrors\u001b[0m\u001b[1;33m=\u001b[0m\u001b[0merrors\u001b[0m\u001b[1;33m)\u001b[0m\u001b[1;33m\u001b[0m\u001b[1;33m\u001b[0m\u001b[0m\n\u001b[0m\u001b[0;32m   5875\u001b[0m             \u001b[1;32mreturn\u001b[0m \u001b[0mself\u001b[0m\u001b[1;33m.\u001b[0m\u001b[0m_constructor\u001b[0m\u001b[1;33m(\u001b[0m\u001b[0mnew_data\u001b[0m\u001b[1;33m)\u001b[0m\u001b[1;33m.\u001b[0m\u001b[0m__finalize__\u001b[0m\u001b[1;33m(\u001b[0m\u001b[0mself\u001b[0m\u001b[1;33m,\u001b[0m \u001b[0mmethod\u001b[0m\u001b[1;33m=\u001b[0m\u001b[1;34m\"astype\"\u001b[0m\u001b[1;33m)\u001b[0m\u001b[1;33m\u001b[0m\u001b[1;33m\u001b[0m\u001b[0m\n\u001b[0;32m   5876\u001b[0m \u001b[1;33m\u001b[0m\u001b[0m\n",
      "\u001b[1;32m~\\AppData\\Local\\Packages\\PythonSoftwareFoundation.Python.3.8_qbz5n2kfra8p0\\LocalCache\\local-packages\\Python38\\site-packages\\pandas\\core\\internals\\managers.py\u001b[0m in \u001b[0;36mastype\u001b[1;34m(self, dtype, copy, errors)\u001b[0m\n\u001b[0;32m    629\u001b[0m         \u001b[0mself\u001b[0m\u001b[1;33m,\u001b[0m \u001b[0mdtype\u001b[0m\u001b[1;33m,\u001b[0m \u001b[0mcopy\u001b[0m\u001b[1;33m:\u001b[0m \u001b[0mbool\u001b[0m \u001b[1;33m=\u001b[0m \u001b[1;32mFalse\u001b[0m\u001b[1;33m,\u001b[0m \u001b[0merrors\u001b[0m\u001b[1;33m:\u001b[0m \u001b[0mstr\u001b[0m \u001b[1;33m=\u001b[0m \u001b[1;34m\"raise\"\u001b[0m\u001b[1;33m\u001b[0m\u001b[1;33m\u001b[0m\u001b[0m\n\u001b[0;32m    630\u001b[0m     ) -> \"BlockManager\":\n\u001b[1;32m--> 631\u001b[1;33m         \u001b[1;32mreturn\u001b[0m \u001b[0mself\u001b[0m\u001b[1;33m.\u001b[0m\u001b[0mapply\u001b[0m\u001b[1;33m(\u001b[0m\u001b[1;34m\"astype\"\u001b[0m\u001b[1;33m,\u001b[0m \u001b[0mdtype\u001b[0m\u001b[1;33m=\u001b[0m\u001b[0mdtype\u001b[0m\u001b[1;33m,\u001b[0m \u001b[0mcopy\u001b[0m\u001b[1;33m=\u001b[0m\u001b[0mcopy\u001b[0m\u001b[1;33m,\u001b[0m \u001b[0merrors\u001b[0m\u001b[1;33m=\u001b[0m\u001b[0merrors\u001b[0m\u001b[1;33m)\u001b[0m\u001b[1;33m\u001b[0m\u001b[1;33m\u001b[0m\u001b[0m\n\u001b[0m\u001b[0;32m    632\u001b[0m \u001b[1;33m\u001b[0m\u001b[0m\n\u001b[0;32m    633\u001b[0m     def convert(\n",
      "\u001b[1;32m~\\AppData\\Local\\Packages\\PythonSoftwareFoundation.Python.3.8_qbz5n2kfra8p0\\LocalCache\\local-packages\\Python38\\site-packages\\pandas\\core\\internals\\managers.py\u001b[0m in \u001b[0;36mapply\u001b[1;34m(self, f, align_keys, ignore_failures, **kwargs)\u001b[0m\n\u001b[0;32m    425\u001b[0m                     \u001b[0mapplied\u001b[0m \u001b[1;33m=\u001b[0m \u001b[0mb\u001b[0m\u001b[1;33m.\u001b[0m\u001b[0mapply\u001b[0m\u001b[1;33m(\u001b[0m\u001b[0mf\u001b[0m\u001b[1;33m,\u001b[0m \u001b[1;33m**\u001b[0m\u001b[0mkwargs\u001b[0m\u001b[1;33m)\u001b[0m\u001b[1;33m\u001b[0m\u001b[1;33m\u001b[0m\u001b[0m\n\u001b[0;32m    426\u001b[0m                 \u001b[1;32melse\u001b[0m\u001b[1;33m:\u001b[0m\u001b[1;33m\u001b[0m\u001b[1;33m\u001b[0m\u001b[0m\n\u001b[1;32m--> 427\u001b[1;33m                     \u001b[0mapplied\u001b[0m \u001b[1;33m=\u001b[0m \u001b[0mgetattr\u001b[0m\u001b[1;33m(\u001b[0m\u001b[0mb\u001b[0m\u001b[1;33m,\u001b[0m \u001b[0mf\u001b[0m\u001b[1;33m)\u001b[0m\u001b[1;33m(\u001b[0m\u001b[1;33m**\u001b[0m\u001b[0mkwargs\u001b[0m\u001b[1;33m)\u001b[0m\u001b[1;33m\u001b[0m\u001b[1;33m\u001b[0m\u001b[0m\n\u001b[0m\u001b[0;32m    428\u001b[0m             \u001b[1;32mexcept\u001b[0m \u001b[1;33m(\u001b[0m\u001b[0mTypeError\u001b[0m\u001b[1;33m,\u001b[0m \u001b[0mNotImplementedError\u001b[0m\u001b[1;33m)\u001b[0m\u001b[1;33m:\u001b[0m\u001b[1;33m\u001b[0m\u001b[1;33m\u001b[0m\u001b[0m\n\u001b[0;32m    429\u001b[0m                 \u001b[1;32mif\u001b[0m \u001b[1;32mnot\u001b[0m \u001b[0mignore_failures\u001b[0m\u001b[1;33m:\u001b[0m\u001b[1;33m\u001b[0m\u001b[1;33m\u001b[0m\u001b[0m\n",
      "\u001b[1;32m~\\AppData\\Local\\Packages\\PythonSoftwareFoundation.Python.3.8_qbz5n2kfra8p0\\LocalCache\\local-packages\\Python38\\site-packages\\pandas\\core\\internals\\blocks.py\u001b[0m in \u001b[0;36mastype\u001b[1;34m(self, dtype, copy, errors)\u001b[0m\n\u001b[0;32m    671\u001b[0m             \u001b[0mvals1d\u001b[0m \u001b[1;33m=\u001b[0m \u001b[0mvalues\u001b[0m\u001b[1;33m.\u001b[0m\u001b[0mravel\u001b[0m\u001b[1;33m(\u001b[0m\u001b[1;33m)\u001b[0m\u001b[1;33m\u001b[0m\u001b[1;33m\u001b[0m\u001b[0m\n\u001b[0;32m    672\u001b[0m             \u001b[1;32mtry\u001b[0m\u001b[1;33m:\u001b[0m\u001b[1;33m\u001b[0m\u001b[1;33m\u001b[0m\u001b[0m\n\u001b[1;32m--> 673\u001b[1;33m                 \u001b[0mvalues\u001b[0m \u001b[1;33m=\u001b[0m \u001b[0mastype_nansafe\u001b[0m\u001b[1;33m(\u001b[0m\u001b[0mvals1d\u001b[0m\u001b[1;33m,\u001b[0m \u001b[0mdtype\u001b[0m\u001b[1;33m,\u001b[0m \u001b[0mcopy\u001b[0m\u001b[1;33m=\u001b[0m\u001b[1;32mTrue\u001b[0m\u001b[1;33m)\u001b[0m\u001b[1;33m\u001b[0m\u001b[1;33m\u001b[0m\u001b[0m\n\u001b[0m\u001b[0;32m    674\u001b[0m             \u001b[1;32mexcept\u001b[0m \u001b[1;33m(\u001b[0m\u001b[0mValueError\u001b[0m\u001b[1;33m,\u001b[0m \u001b[0mTypeError\u001b[0m\u001b[1;33m)\u001b[0m\u001b[1;33m:\u001b[0m\u001b[1;33m\u001b[0m\u001b[1;33m\u001b[0m\u001b[0m\n\u001b[0;32m    675\u001b[0m                 \u001b[1;31m# e.g. astype_nansafe can fail on object-dtype of strings\u001b[0m\u001b[1;33m\u001b[0m\u001b[1;33m\u001b[0m\u001b[1;33m\u001b[0m\u001b[0m\n",
      "\u001b[1;32m~\\AppData\\Local\\Packages\\PythonSoftwareFoundation.Python.3.8_qbz5n2kfra8p0\\LocalCache\\local-packages\\Python38\\site-packages\\pandas\\core\\dtypes\\cast.py\u001b[0m in \u001b[0;36mastype_nansafe\u001b[1;34m(arr, dtype, copy, skipna)\u001b[0m\n\u001b[0;32m   1095\u001b[0m     \u001b[1;32mif\u001b[0m \u001b[0mcopy\u001b[0m \u001b[1;32mor\u001b[0m \u001b[0mis_object_dtype\u001b[0m\u001b[1;33m(\u001b[0m\u001b[0marr\u001b[0m\u001b[1;33m)\u001b[0m \u001b[1;32mor\u001b[0m \u001b[0mis_object_dtype\u001b[0m\u001b[1;33m(\u001b[0m\u001b[0mdtype\u001b[0m\u001b[1;33m)\u001b[0m\u001b[1;33m:\u001b[0m\u001b[1;33m\u001b[0m\u001b[1;33m\u001b[0m\u001b[0m\n\u001b[0;32m   1096\u001b[0m         \u001b[1;31m# Explicit copy, or required since NumPy can't view from / to object.\u001b[0m\u001b[1;33m\u001b[0m\u001b[1;33m\u001b[0m\u001b[1;33m\u001b[0m\u001b[0m\n\u001b[1;32m-> 1097\u001b[1;33m         \u001b[1;32mreturn\u001b[0m \u001b[0marr\u001b[0m\u001b[1;33m.\u001b[0m\u001b[0mastype\u001b[0m\u001b[1;33m(\u001b[0m\u001b[0mdtype\u001b[0m\u001b[1;33m,\u001b[0m \u001b[0mcopy\u001b[0m\u001b[1;33m=\u001b[0m\u001b[1;32mTrue\u001b[0m\u001b[1;33m)\u001b[0m\u001b[1;33m\u001b[0m\u001b[1;33m\u001b[0m\u001b[0m\n\u001b[0m\u001b[0;32m   1098\u001b[0m \u001b[1;33m\u001b[0m\u001b[0m\n\u001b[0;32m   1099\u001b[0m     \u001b[1;32mreturn\u001b[0m \u001b[0marr\u001b[0m\u001b[1;33m.\u001b[0m\u001b[0mview\u001b[0m\u001b[1;33m(\u001b[0m\u001b[0mdtype\u001b[0m\u001b[1;33m)\u001b[0m\u001b[1;33m\u001b[0m\u001b[1;33m\u001b[0m\u001b[0m\n",
      "\u001b[1;31mValueError\u001b[0m: could not convert string to float: '1,089820359'"
     ]
    }
   ],
   "source": [
    "df['credit_line_utilization'].astype(float, errors=\"raise\")"
   ]
  },
  {
   "cell_type": "markdown",
   "metadata": {},
   "source": [
    "The error shows us that it could not convert string to float 1,089820359 "
   ]
  },
  {
   "cell_type": "markdown",
   "metadata": {},
   "source": [
    "Comma in 1,089820359 is making it difficultfor us to convert it to float. So we gonna replace Comma with dot in the cell below"
   ]
  },
  {
   "cell_type": "code",
   "execution_count": 3,
   "metadata": {},
   "outputs": [],
   "source": [
    "df['credit_line_utilization'] = df['credit_line_utilization'].str.replace(',', '.').astype(float)"
   ]
  },
  {
   "cell_type": "code",
   "execution_count": 4,
   "metadata": {},
   "outputs": [
    {
     "data": {
      "text/plain": [
       "0        0.054888\n",
       "1        0.101950\n",
       "2        1.227135\n",
       "3        0.083278\n",
       "4        0.317446\n",
       "           ...   \n",
       "72156    0.145214\n",
       "72157    0.445704\n",
       "72158    0.048434\n",
       "72159    0.447266\n",
       "72160    0.873709\n",
       "Name: credit_line_utilization, Length: 72161, dtype: float64"
      ]
     },
     "execution_count": 4,
     "metadata": {},
     "output_type": "execute_result"
    }
   ],
   "source": [
    "df['credit_line_utilization']"
   ]
  },
  {
   "cell_type": "markdown",
   "metadata": {},
   "source": [
    "### Now all our columns are numeric so we could start Visualisation and Imputing"
   ]
  },
  {
   "cell_type": "markdown",
   "metadata": {},
   "source": [
    "Lets look at the missing values"
   ]
  },
  {
   "cell_type": "code",
   "execution_count": 5,
   "metadata": {
    "scrolled": true
   },
   "outputs": [
    {
     "data": {
      "text/plain": [
       "Id                                                     0\n",
       "age                                                 7144\n",
       "number_dependent_family_members                     4216\n",
       "monthly_income                                      6016\n",
       "number_of_credit_lines                              6154\n",
       "real_estate_loans                                   3806\n",
       "ratio_debt_payment_to_income                        5608\n",
       "credit_line_utilization                             6346\n",
       "number_of_previous_late_payments_up_to_59_days      4195\n",
       "number_of_previous_late_payments_up_to_89_days      5845\n",
       "number_of_previous_late_payments_90_days_or_more    3621\n",
       "defaulted_on_loan                                      0\n",
       "dtype: int64"
      ]
     },
     "execution_count": 5,
     "metadata": {},
     "output_type": "execute_result"
    }
   ],
   "source": [
    "df.isna().sum()"
   ]
  },
  {
   "cell_type": "markdown",
   "metadata": {},
   "source": [
    "Lets look at the the percentage of missing values for each column "
   ]
  },
  {
   "cell_type": "code",
   "execution_count": 4,
   "metadata": {},
   "outputs": [
    {
     "data": {
      "text/plain": [
       "Id                                                  0.000000\n",
       "age                                                 9.900085\n",
       "number_dependent_family_members                     5.842491\n",
       "monthly_income                                      8.336913\n",
       "number_of_credit_lines                              8.528152\n",
       "real_estate_loans                                   5.274317\n",
       "ratio_debt_payment_to_income                        7.771511\n",
       "credit_line_utilization                             8.794224\n",
       "number_of_previous_late_payments_up_to_59_days      5.813390\n",
       "number_of_previous_late_payments_up_to_89_days      8.099943\n",
       "number_of_previous_late_payments_90_days_or_more    5.017946\n",
       "defaulted_on_loan                                   0.000000\n",
       "dtype: float64"
      ]
     },
     "execution_count": 4,
     "metadata": {},
     "output_type": "execute_result"
    }
   ],
   "source": [
    "(df.isna().sum()/df.shape[0])*100"
   ]
  },
  {
   "cell_type": "markdown",
   "metadata": {},
   "source": [
    "As we can see some columns have up to 10 percent missing values some 5"
   ]
  },
  {
   "cell_type": "markdown",
   "metadata": {},
   "source": [
    "We will impute missing values after visualisation step"
   ]
  },
  {
   "cell_type": "code",
   "execution_count": 14,
   "metadata": {
    "scrolled": true
   },
   "outputs": [
    {
     "data": {
      "text/html": [
       "<div>\n",
       "<style scoped>\n",
       "    .dataframe tbody tr th:only-of-type {\n",
       "        vertical-align: middle;\n",
       "    }\n",
       "\n",
       "    .dataframe tbody tr th {\n",
       "        vertical-align: top;\n",
       "    }\n",
       "\n",
       "    .dataframe thead th {\n",
       "        text-align: right;\n",
       "    }\n",
       "</style>\n",
       "<table border=\"1\" class=\"dataframe\">\n",
       "  <thead>\n",
       "    <tr style=\"text-align: right;\">\n",
       "      <th></th>\n",
       "      <th>Id</th>\n",
       "      <th>age</th>\n",
       "      <th>number_dependent_family_members</th>\n",
       "      <th>monthly_income</th>\n",
       "      <th>number_of_credit_lines</th>\n",
       "      <th>real_estate_loans</th>\n",
       "      <th>ratio_debt_payment_to_income</th>\n",
       "      <th>credit_line_utilization</th>\n",
       "      <th>number_of_previous_late_payments_up_to_59_days</th>\n",
       "      <th>number_of_previous_late_payments_up_to_89_days</th>\n",
       "      <th>number_of_previous_late_payments_90_days_or_more</th>\n",
       "      <th>defaulted_on_loan</th>\n",
       "    </tr>\n",
       "  </thead>\n",
       "  <tbody>\n",
       "    <tr>\n",
       "      <th>count</th>\n",
       "      <td>72161.000000</td>\n",
       "      <td>65017.000000</td>\n",
       "      <td>67945.000000</td>\n",
       "      <td>6.614500e+04</td>\n",
       "      <td>66007.000000</td>\n",
       "      <td>68355.000000</td>\n",
       "      <td>66553.000000</td>\n",
       "      <td>65815.000000</td>\n",
       "      <td>67966.000000</td>\n",
       "      <td>66316.000000</td>\n",
       "      <td>68540.000000</td>\n",
       "      <td>72161.000000</td>\n",
       "    </tr>\n",
       "    <tr>\n",
       "      <th>mean</th>\n",
       "      <td>36081.000000</td>\n",
       "      <td>51.388914</td>\n",
       "      <td>0.847009</td>\n",
       "      <td>6.624388e+03</td>\n",
       "      <td>8.756193</td>\n",
       "      <td>1.050296</td>\n",
       "      <td>26.524005</td>\n",
       "      <td>5.225040</td>\n",
       "      <td>0.393491</td>\n",
       "      <td>0.206074</td>\n",
       "      <td>0.224059</td>\n",
       "      <td>0.069470</td>\n",
       "    </tr>\n",
       "    <tr>\n",
       "      <th>std</th>\n",
       "      <td>20831.230725</td>\n",
       "      <td>14.414338</td>\n",
       "      <td>1.144038</td>\n",
       "      <td>1.084630e+04</td>\n",
       "      <td>5.198769</td>\n",
       "      <td>1.114420</td>\n",
       "      <td>399.253008</td>\n",
       "      <td>212.152963</td>\n",
       "      <td>3.680686</td>\n",
       "      <td>3.696260</td>\n",
       "      <td>3.634436</td>\n",
       "      <td>0.254253</td>\n",
       "    </tr>\n",
       "    <tr>\n",
       "      <th>min</th>\n",
       "      <td>1.000000</td>\n",
       "      <td>21.000000</td>\n",
       "      <td>0.000000</td>\n",
       "      <td>0.000000e+00</td>\n",
       "      <td>0.000000</td>\n",
       "      <td>0.000000</td>\n",
       "      <td>0.000000</td>\n",
       "      <td>0.000000</td>\n",
       "      <td>0.000000</td>\n",
       "      <td>0.000000</td>\n",
       "      <td>0.000000</td>\n",
       "      <td>0.000000</td>\n",
       "    </tr>\n",
       "    <tr>\n",
       "      <th>25%</th>\n",
       "      <td>18041.000000</td>\n",
       "      <td>41.000000</td>\n",
       "      <td>0.000000</td>\n",
       "      <td>3.400000e+03</td>\n",
       "      <td>5.000000</td>\n",
       "      <td>0.000000</td>\n",
       "      <td>0.141302</td>\n",
       "      <td>0.035123</td>\n",
       "      <td>0.000000</td>\n",
       "      <td>0.000000</td>\n",
       "      <td>0.000000</td>\n",
       "      <td>0.000000</td>\n",
       "    </tr>\n",
       "    <tr>\n",
       "      <th>50%</th>\n",
       "      <td>36081.000000</td>\n",
       "      <td>51.000000</td>\n",
       "      <td>0.000000</td>\n",
       "      <td>5.400000e+03</td>\n",
       "      <td>8.000000</td>\n",
       "      <td>1.000000</td>\n",
       "      <td>0.294673</td>\n",
       "      <td>0.176500</td>\n",
       "      <td>0.000000</td>\n",
       "      <td>0.000000</td>\n",
       "      <td>0.000000</td>\n",
       "      <td>0.000000</td>\n",
       "    </tr>\n",
       "    <tr>\n",
       "      <th>75%</th>\n",
       "      <td>54121.000000</td>\n",
       "      <td>62.000000</td>\n",
       "      <td>2.000000</td>\n",
       "      <td>8.232000e+03</td>\n",
       "      <td>11.000000</td>\n",
       "      <td>2.000000</td>\n",
       "      <td>0.480989</td>\n",
       "      <td>0.578536</td>\n",
       "      <td>0.000000</td>\n",
       "      <td>0.000000</td>\n",
       "      <td>0.000000</td>\n",
       "      <td>0.000000</td>\n",
       "    </tr>\n",
       "    <tr>\n",
       "      <th>max</th>\n",
       "      <td>72161.000000</td>\n",
       "      <td>103.000000</td>\n",
       "      <td>13.000000</td>\n",
       "      <td>1.560100e+06</td>\n",
       "      <td>57.000000</td>\n",
       "      <td>25.000000</td>\n",
       "      <td>61106.500000</td>\n",
       "      <td>29110.000000</td>\n",
       "      <td>98.000000</td>\n",
       "      <td>98.000000</td>\n",
       "      <td>98.000000</td>\n",
       "      <td>1.000000</td>\n",
       "    </tr>\n",
       "  </tbody>\n",
       "</table>\n",
       "</div>"
      ],
      "text/plain": [
       "                 Id           age  number_dependent_family_members  \\\n",
       "count  72161.000000  65017.000000                     67945.000000   \n",
       "mean   36081.000000     51.388914                         0.847009   \n",
       "std    20831.230725     14.414338                         1.144038   \n",
       "min        1.000000     21.000000                         0.000000   \n",
       "25%    18041.000000     41.000000                         0.000000   \n",
       "50%    36081.000000     51.000000                         0.000000   \n",
       "75%    54121.000000     62.000000                         2.000000   \n",
       "max    72161.000000    103.000000                        13.000000   \n",
       "\n",
       "       monthly_income  number_of_credit_lines  real_estate_loans  \\\n",
       "count    6.614500e+04            66007.000000       68355.000000   \n",
       "mean     6.624388e+03                8.756193           1.050296   \n",
       "std      1.084630e+04                5.198769           1.114420   \n",
       "min      0.000000e+00                0.000000           0.000000   \n",
       "25%      3.400000e+03                5.000000           0.000000   \n",
       "50%      5.400000e+03                8.000000           1.000000   \n",
       "75%      8.232000e+03               11.000000           2.000000   \n",
       "max      1.560100e+06               57.000000          25.000000   \n",
       "\n",
       "       ratio_debt_payment_to_income  credit_line_utilization  \\\n",
       "count                  66553.000000             65815.000000   \n",
       "mean                      26.524005                 5.225040   \n",
       "std                      399.253008               212.152963   \n",
       "min                        0.000000                 0.000000   \n",
       "25%                        0.141302                 0.035123   \n",
       "50%                        0.294673                 0.176500   \n",
       "75%                        0.480989                 0.578536   \n",
       "max                    61106.500000             29110.000000   \n",
       "\n",
       "       number_of_previous_late_payments_up_to_59_days  \\\n",
       "count                                    67966.000000   \n",
       "mean                                         0.393491   \n",
       "std                                          3.680686   \n",
       "min                                          0.000000   \n",
       "25%                                          0.000000   \n",
       "50%                                          0.000000   \n",
       "75%                                          0.000000   \n",
       "max                                         98.000000   \n",
       "\n",
       "       number_of_previous_late_payments_up_to_89_days  \\\n",
       "count                                    66316.000000   \n",
       "mean                                         0.206074   \n",
       "std                                          3.696260   \n",
       "min                                          0.000000   \n",
       "25%                                          0.000000   \n",
       "50%                                          0.000000   \n",
       "75%                                          0.000000   \n",
       "max                                         98.000000   \n",
       "\n",
       "       number_of_previous_late_payments_90_days_or_more  defaulted_on_loan  \n",
       "count                                      68540.000000       72161.000000  \n",
       "mean                                           0.224059           0.069470  \n",
       "std                                            3.634436           0.254253  \n",
       "min                                            0.000000           0.000000  \n",
       "25%                                            0.000000           0.000000  \n",
       "50%                                            0.000000           0.000000  \n",
       "75%                                            0.000000           0.000000  \n",
       "max                                           98.000000           1.000000  "
      ]
     },
     "execution_count": 14,
     "metadata": {},
     "output_type": "execute_result"
    }
   ],
   "source": [
    "df.describe()"
   ]
  },
  {
   "cell_type": "markdown",
   "metadata": {},
   "source": [
    "### Observations\n",
    "* There is big difference of between 75 percentile and max value of columns number_dependent_family_members, real_estate_loans, ratio_debt_payment_to_income, credit_line_utilization. It means we have a lot of outliers to remove"
   ]
  },
  {
   "cell_type": "code",
   "execution_count": 9,
   "metadata": {},
   "outputs": [
    {
     "data": {
      "text/plain": [
       "Id                                                  72161\n",
       "age                                                    82\n",
       "number_dependent_family_members                        12\n",
       "monthly_income                                      11007\n",
       "number_of_credit_lines                                 56\n",
       "real_estate_loans                                      20\n",
       "ratio_debt_payment_to_income                        62311\n",
       "credit_line_utilization                             56814\n",
       "number_of_previous_late_payments_up_to_59_days         13\n",
       "number_of_previous_late_payments_up_to_89_days         11\n",
       "number_of_previous_late_payments_90_days_or_more       18\n",
       "defaulted_on_loan                                       2\n",
       "dtype: int64"
      ]
     },
     "execution_count": 9,
     "metadata": {},
     "output_type": "execute_result"
    }
   ],
   "source": [
    "df.nunique(axis=0)"
   ]
  },
  {
   "cell_type": "code",
   "execution_count": null,
   "metadata": {},
   "outputs": [],
   "source": []
  },
  {
   "cell_type": "code",
   "execution_count": null,
   "metadata": {},
   "outputs": [],
   "source": []
  },
  {
   "cell_type": "code",
   "execution_count": 5,
   "metadata": {},
   "outputs": [],
   "source": [
    "correlation_matrix = df.iloc[:, 1:].corr()"
   ]
  },
  {
   "cell_type": "code",
   "execution_count": 10,
   "metadata": {},
   "outputs": [
    {
     "data": {
      "text/plain": [
       "Index(['age', 'number_dependent_family_members', 'monthly_income',\n",
       "       'number_of_credit_lines', 'real_estate_loans',\n",
       "       'ratio_debt_payment_to_income', 'credit_line_utilization',\n",
       "       'number_of_previous_late_payments_up_to_59_days',\n",
       "       'number_of_previous_late_payments_up_to_89_days',\n",
       "       'number_of_previous_late_payments_90_days_or_more'],\n",
       "      dtype='object')"
      ]
     },
     "execution_count": 10,
     "metadata": {},
     "output_type": "execute_result"
    }
   ],
   "source": [
    "columns = df.iloc[:, 1:-1].columns\n",
    "columns"
   ]
  },
  {
   "cell_type": "code",
   "execution_count": null,
   "metadata": {},
   "outputs": [],
   "source": []
  },
  {
   "cell_type": "code",
   "execution_count": 8,
   "metadata": {},
   "outputs": [
    {
     "data": {
      "text/plain": [
       "array([0, 1], dtype=int64)"
      ]
     },
     "execution_count": 8,
     "metadata": {},
     "output_type": "execute_result"
    }
   ],
   "source": [
    "df['defaulted_on_loan'].unique()"
   ]
  },
  {
   "cell_type": "markdown",
   "metadata": {},
   "source": [
    "Our problem is a classification problem and it is binary"
   ]
  },
  {
   "cell_type": "code",
   "execution_count": 9,
   "metadata": {},
   "outputs": [
    {
     "data": {
      "text/plain": [
       "<AxesSubplot:xlabel='defaulted_on_loan', ylabel='count'>"
      ]
     },
     "execution_count": 9,
     "metadata": {},
     "output_type": "execute_result"
    },
    {
     "data": {
      "image/png": "[encoded data removed]",
      "text/plain": [
       "<Figure size 432x288 with 1 Axes>"
      ]
     },
     "metadata": {
      "needs_background": "light"
     },
     "output_type": "display_data"
    }
   ],
   "source": [
    "sns.countplot(x='defaulted_on_loan', hue='defaulted_on_loan', data=df)"
   ]
  },
  {
   "cell_type": "code",
   "execution_count": 10,
   "metadata": {
    "scrolled": true
   },
   "outputs": [
    {
     "data": {
      "text/plain": [
       "0    67148\n",
       "1     5013\n",
       "Name: defaulted_on_loan, dtype: int64"
      ]
     },
     "execution_count": 10,
     "metadata": {},
     "output_type": "execute_result"
    }
   ],
   "source": [
    "df['defaulted_on_loan'].value_counts()"
   ]
  },
  {
   "cell_type": "markdown",
   "metadata": {},
   "source": [
    "### So our target value is unequally distributed. If predict with simple ML algortihm our accuracy will be quite high somewhere above 90%, but thats not what we want."
   ]
  },
  {
   "cell_type": "code",
   "execution_count": null,
   "metadata": {},
   "outputs": [],
   "source": []
  },
  {
   "cell_type": "code",
   "execution_count": null,
   "metadata": {},
   "outputs": [],
   "source": []
  },
  {
   "cell_type": "code",
   "execution_count": null,
   "metadata": {},
   "outputs": [],
   "source": []
  },
  {
   "cell_type": "markdown",
   "metadata": {},
   "source": [
    "## Data Visualisation"
   ]
  },
  {
   "cell_type": "code",
   "execution_count": 8,
   "metadata": {},
   "outputs": [
    {
     "data": {
      "text/plain": [
       "<AxesSubplot:>"
      ]
     },
     "execution_count": 8,
     "metadata": {},
     "output_type": "execute_result"
    },
    {
     "data": {
      "image/png": "[encoded data removed]",
      "text/plain": [
       "<Figure size 1800x1440 with 2 Axes>"
      ]
     },
     "metadata": {
      "needs_background": "light"
     },
     "output_type": "display_data"
    }
   ],
   "source": [
    "plt.figure(figsize=(25, 20))\n",
    "sns.heatmap(correlation_matrix, annot=True)"
   ]
  },
  {
   "cell_type": "code",
   "execution_count": 22,
   "metadata": {},
   "outputs": [
    {
     "data": {
      "text/plain": [
       "<AxesSubplot:ylabel='Frequency'>"
      ]
     },
     "execution_count": 22,
     "metadata": {},
     "output_type": "execute_result"
    },
    {
     "data": {
      "image/png": "[encoded data removed]",
      "text/plain": [
       "<Figure size 864x432 with 1 Axes>"
      ]
     },
     "metadata": {
      "needs_background": "light"
     },
     "output_type": "display_data"
    }
   ],
   "source": [
    "df['age'].plot(kind='hist', bins=20, figsize=(12,6), facecolor='grey',edgecolor='black')"
   ]
  },
  {
   "cell_type": "code",
   "execution_count": 23,
   "metadata": {},
   "outputs": [
    {
     "data": {
      "text/plain": [
       "<AxesSubplot:ylabel='Frequency'>"
      ]
     },
     "execution_count": 23,
     "metadata": {},
     "output_type": "execute_result"
    },
    {
     "data": {
      "image/png": "[encoded data removed]",
      "text/plain": [
       "<Figure size 864x432 with 1 Axes>"
      ]
     },
     "metadata": {
      "needs_background": "light"
     },
     "output_type": "display_data"
    }
   ],
   "source": [
    "df['number_dependent_family_members'].plot(kind='hist', bins=20, figsize=(12,6), facecolor='grey',edgecolor='black')"
   ]
  },
  {
   "cell_type": "code",
   "execution_count": 24,
   "metadata": {},
   "outputs": [
    {
     "data": {
      "text/plain": [
       "<AxesSubplot:ylabel='Frequency'>"
      ]
     },
     "execution_count": 24,
     "metadata": {},
     "output_type": "execute_result"
    },
    {
     "data": {
      "image/png": "[encoded data removed]",
      "text/plain": [
       "<Figure size 864x432 with 1 Axes>"
      ]
     },
     "metadata": {
      "needs_background": "light"
     },
     "output_type": "display_data"
    }
   ],
   "source": [
    "df['monthly_income'].plot(kind='hist', bins=20, figsize=(12,6), facecolor='grey',edgecolor='black')"
   ]
  },
  {
   "cell_type": "code",
   "execution_count": 25,
   "metadata": {},
   "outputs": [
    {
     "data": {
      "text/plain": [
       "<AxesSubplot:ylabel='Frequency'>"
      ]
     },
     "execution_count": 25,
     "metadata": {},
     "output_type": "execute_result"
    },
    {
     "data": {
      "image/png": "[encoded data removed]",
      "text/plain": [
       "<Figure size 864x432 with 1 Axes>"
      ]
     },
     "metadata": {
      "needs_background": "light"
     },
     "output_type": "display_data"
    }
   ],
   "source": [
    "df['number_of_credit_lines'].plot(kind='hist', bins=20, figsize=(12,6), facecolor='grey',edgecolor='black')"
   ]
  },
  {
   "cell_type": "code",
   "execution_count": 26,
   "metadata": {},
   "outputs": [
    {
     "data": {
      "text/plain": [
       "<AxesSubplot:ylabel='Frequency'>"
      ]
     },
     "execution_count": 26,
     "metadata": {},
     "output_type": "execute_result"
    },
    {
     "data": {
      "image/png": "[encoded data removed]",
      "text/plain": [
       "<Figure size 864x432 with 1 Axes>"
      ]
     },
     "metadata": {
      "needs_background": "light"
     },
     "output_type": "display_data"
    }
   ],
   "source": [
    "df['credit_line_utilization'].plot(kind='hist', bins=10, figsize=(12,6), facecolor='grey',edgecolor='black')"
   ]
  },
  {
   "cell_type": "code",
   "execution_count": 27,
   "metadata": {},
   "outputs": [
    {
     "data": {
      "text/plain": [
       "<AxesSubplot:ylabel='Frequency'>"
      ]
     },
     "execution_count": 27,
     "metadata": {},
     "output_type": "execute_result"
    },
    {
     "data": {
      "image/png": "[encoded data removed]",
      "text/plain": [
       "<Figure size 864x432 with 1 Axes>"
      ]
     },
     "metadata": {
      "needs_background": "light"
     },
     "output_type": "display_data"
    }
   ],
   "source": [
    "df['real_estate_loans'].plot(kind='hist', bins=20, figsize=(12,6), facecolor='grey',edgecolor='black')"
   ]
  },
  {
   "cell_type": "markdown",
   "metadata": {},
   "source": [
    "#### Now use boxplots to visualize"
   ]
  },
  {
   "cell_type": "code",
   "execution_count": 28,
   "metadata": {
    "scrolled": true
   },
   "outputs": [
    {
     "data": {
      "image/png": "[encoded data removed]",
      "text/plain": [
       "<Figure size 360x360 with 1 Axes>"
      ]
     },
     "metadata": {
      "needs_background": "light"
     },
     "output_type": "display_data"
    },
    {
     "data": {
      "image/png": "[encoded data removed]",
      "text/plain": [
       "<Figure size 360x360 with 1 Axes>"
      ]
     },
     "metadata": {
      "needs_background": "light"
     },
     "output_type": "display_data"
    },
    {
     "data": {
      "image/png": "[encoded data removed]",
      "text/plain": [
       "<Figure size 360x360 with 1 Axes>"
      ]
     },
     "metadata": {
      "needs_background": "light"
     },
     "output_type": "display_data"
    },
    {
     "data": {
      "image/png": "[encoded data removed]",
      "text/plain": [
       "<Figure size 360x360 with 1 Axes>"
      ]
     },
     "metadata": {
      "needs_background": "light"
     },
     "output_type": "display_data"
    },
    {
     "data": {
      "image/png": "[encoded data removed]",
      "text/plain": [
       "<Figure size 360x360 with 1 Axes>"
      ]
     },
     "metadata": {
      "needs_background": "light"
     },
     "output_type": "display_data"
    },
    {
     "data": {
      "image/png": "[encoded data removed]",
      "text/plain": [
       "<Figure size 360x360 with 1 Axes>"
      ]
     },
     "metadata": {
      "needs_background": "light"
     },
     "output_type": "display_data"
    },
    {
     "data": {
      "image/png": "[encoded data removed]",
      "text/plain": [
       "<Figure size 360x360 with 1 Axes>"
      ]
     },
     "metadata": {
      "needs_background": "light"
     },
     "output_type": "display_data"
    },
    {
     "data": {
      "image/png": "[encoded data removed]",
      "text/plain": [
       "<Figure size 360x360 with 1 Axes>"
      ]
     },
     "metadata": {
      "needs_background": "light"
     },
     "output_type": "display_data"
    },
    {
     "data": {
      "image/png": "[encoded data removed]",
      "text/plain": [
       "<Figure size 360x360 with 1 Axes>"
      ]
     },
     "metadata": {
      "needs_background": "light"
     },
     "output_type": "display_data"
    },
    {
     "data": {
      "image/png": "[encoded data removed]",
      "text/plain": [
       "<Figure size 360x360 with 1 Axes>"
      ]
     },
     "metadata": {
      "needs_background": "light"
     },
     "output_type": "display_data"
    }
   ],
   "source": [
    "for col in columns:\n",
    "    sns.catplot(x='defaulted_on_loan', y=col, data=df, kind='box')\n",
    "    plt.show()"
   ]
  },
  {
   "cell_type": "markdown",
   "metadata": {},
   "source": [
    "There number of outliers and we will use some outlier removing techniques to get rid of them. But before that we will impute missing values"
   ]
  },
  {
   "cell_type": "markdown",
   "metadata": {},
   "source": [
    "### Missing value imputation"
   ]
  },
  {
   "cell_type": "markdown",
   "metadata": {},
   "source": [
    "#### Below we will try different imputing techniques and test them with different ML algorithms"
   ]
  },
  {
   "cell_type": "code",
   "execution_count": 11,
   "metadata": {},
   "outputs": [],
   "source": [
    "from sklearn.impute import SimpleImputer\n",
    "from sklearn.impute import KNNImputer\n",
    "from sklearn.ensemble import IsolationForest\n",
    "from sklearn.metrics import mean_absolute_error\n",
    "from sklearn.model_selection import train_test_split\n",
    "from sklearn.metrics import roc_auc_score\n",
    "from sklearn.neighbors import KNeighborsClassifier\n",
    "from sklearn.ensemble import RandomForestClassifier\n",
    "from sklearn.linear_model import LogisticRegression\n",
    "from sklearn.svm import SVC\n",
    "from xgboost import XGBClassifier\n",
    "from sklearn.naive_bayes import GaussianNB\n",
    "from sklearn.pipeline import Pipeline\n",
    "from sklearn.compose import ColumnTransformer\n",
    "from sklearn.preprocessing import StandardScaler\n",
    "from sklearn.tree import DecisionTreeClassifier\n",
    "from sklearn.ensemble import GradientBoostingClassifier\n",
    "from catboost import CatBoostClassifier\n",
    "from sklearn.ensemble import GradientBoostingClassifier"
   ]
  },
  {
   "cell_type": "code",
   "execution_count": 12,
   "metadata": {},
   "outputs": [],
   "source": [
    "X, y = df[columns], df.iloc[:, -1]"
   ]
  },
  {
   "cell_type": "markdown",
   "metadata": {},
   "source": [
    "#### Imputing with mean"
   ]
  },
  {
   "cell_type": "code",
   "execution_count": 18,
   "metadata": {},
   "outputs": [
    {
     "data": {
      "text/html": [
       "<div>\n",
       "<style scoped>\n",
       "    .dataframe tbody tr th:only-of-type {\n",
       "        vertical-align: middle;\n",
       "    }\n",
       "\n",
       "    .dataframe tbody tr th {\n",
       "        vertical-align: top;\n",
       "    }\n",
       "\n",
       "    .dataframe thead th {\n",
       "        text-align: right;\n",
       "    }\n",
       "</style>\n",
       "<table border=\"1\" class=\"dataframe\">\n",
       "  <thead>\n",
       "    <tr style=\"text-align: right;\">\n",
       "      <th></th>\n",
       "      <th>age</th>\n",
       "      <th>number_dependent_family_members</th>\n",
       "      <th>monthly_income</th>\n",
       "      <th>number_of_credit_lines</th>\n",
       "      <th>real_estate_loans</th>\n",
       "      <th>ratio_debt_payment_to_income</th>\n",
       "      <th>credit_line_utilization</th>\n",
       "      <th>number_of_previous_late_payments_up_to_59_days</th>\n",
       "      <th>number_of_previous_late_payments_up_to_89_days</th>\n",
       "      <th>number_of_previous_late_payments_90_days_or_more</th>\n",
       "    </tr>\n",
       "  </thead>\n",
       "  <tbody>\n",
       "    <tr>\n",
       "      <th>0</th>\n",
       "      <td>66.0</td>\n",
       "      <td>0.847009</td>\n",
       "      <td>4000.0</td>\n",
       "      <td>8.756193</td>\n",
       "      <td>1.0</td>\n",
       "      <td>0.569108</td>\n",
       "      <td>0.054888</td>\n",
       "      <td>0.0</td>\n",
       "      <td>0.0</td>\n",
       "      <td>0.0</td>\n",
       "    </tr>\n",
       "    <tr>\n",
       "      <th>1</th>\n",
       "      <td>61.0</td>\n",
       "      <td>2.000000</td>\n",
       "      <td>4000.0</td>\n",
       "      <td>6.000000</td>\n",
       "      <td>1.0</td>\n",
       "      <td>0.297176</td>\n",
       "      <td>0.101950</td>\n",
       "      <td>0.0</td>\n",
       "      <td>0.0</td>\n",
       "      <td>0.0</td>\n",
       "    </tr>\n",
       "    <tr>\n",
       "      <th>2</th>\n",
       "      <td>31.0</td>\n",
       "      <td>2.000000</td>\n",
       "      <td>3040.0</td>\n",
       "      <td>8.000000</td>\n",
       "      <td>0.0</td>\n",
       "      <td>0.160145</td>\n",
       "      <td>1.227135</td>\n",
       "      <td>4.0</td>\n",
       "      <td>0.0</td>\n",
       "      <td>0.0</td>\n",
       "    </tr>\n",
       "    <tr>\n",
       "      <th>3</th>\n",
       "      <td>54.0</td>\n",
       "      <td>4.000000</td>\n",
       "      <td>10218.0</td>\n",
       "      <td>5.000000</td>\n",
       "      <td>0.0</td>\n",
       "      <td>0.067913</td>\n",
       "      <td>0.083278</td>\n",
       "      <td>0.0</td>\n",
       "      <td>0.0</td>\n",
       "      <td>0.0</td>\n",
       "    </tr>\n",
       "    <tr>\n",
       "      <th>4</th>\n",
       "      <td>29.0</td>\n",
       "      <td>0.000000</td>\n",
       "      <td>4468.0</td>\n",
       "      <td>6.000000</td>\n",
       "      <td>0.0</td>\n",
       "      <td>0.328261</td>\n",
       "      <td>0.317446</td>\n",
       "      <td>0.0</td>\n",
       "      <td>0.0</td>\n",
       "      <td>0.0</td>\n",
       "    </tr>\n",
       "    <tr>\n",
       "      <th>5</th>\n",
       "      <td>39.0</td>\n",
       "      <td>2.000000</td>\n",
       "      <td>4166.0</td>\n",
       "      <td>17.000000</td>\n",
       "      <td>1.0</td>\n",
       "      <td>26.524005</td>\n",
       "      <td>5.225040</td>\n",
       "      <td>1.0</td>\n",
       "      <td>0.0</td>\n",
       "      <td>0.0</td>\n",
       "    </tr>\n",
       "  </tbody>\n",
       "</table>\n",
       "</div>"
      ],
      "text/plain": [
       "    age  number_dependent_family_members  monthly_income  \\\n",
       "0  66.0                         0.847009          4000.0   \n",
       "1  61.0                         2.000000          4000.0   \n",
       "2  31.0                         2.000000          3040.0   \n",
       "3  54.0                         4.000000         10218.0   \n",
       "4  29.0                         0.000000          4468.0   \n",
       "5  39.0                         2.000000          4166.0   \n",
       "\n",
       "   number_of_credit_lines  real_estate_loans  ratio_debt_payment_to_income  \\\n",
       "0                8.756193                1.0                      0.569108   \n",
       "1                6.000000                1.0                      0.297176   \n",
       "2                8.000000                0.0                      0.160145   \n",
       "3                5.000000                0.0                      0.067913   \n",
       "4                6.000000                0.0                      0.328261   \n",
       "5               17.000000                1.0                     26.524005   \n",
       "\n",
       "   credit_line_utilization  number_of_previous_late_payments_up_to_59_days  \\\n",
       "0                 0.054888                                             0.0   \n",
       "1                 0.101950                                             0.0   \n",
       "2                 1.227135                                             4.0   \n",
       "3                 0.083278                                             0.0   \n",
       "4                 0.317446                                             0.0   \n",
       "5                 5.225040                                             1.0   \n",
       "\n",
       "   number_of_previous_late_payments_up_to_89_days  \\\n",
       "0                                             0.0   \n",
       "1                                             0.0   \n",
       "2                                             0.0   \n",
       "3                                             0.0   \n",
       "4                                             0.0   \n",
       "5                                             0.0   \n",
       "\n",
       "   number_of_previous_late_payments_90_days_or_more  \n",
       "0                                               0.0  \n",
       "1                                               0.0  \n",
       "2                                               0.0  \n",
       "3                                               0.0  \n",
       "4                                               0.0  \n",
       "5                                               0.0  "
      ]
     },
     "execution_count": 18,
     "metadata": {},
     "output_type": "execute_result"
    }
   ],
   "source": [
    "simple_impute = SimpleImputer(strategy='mean')\n",
    "X_imputed = simple_impute.fit_transform(X)\n",
    "X_imputed = pd.DataFrame(X_imputed)\n",
    "X_imputed.columns = columns\n",
    "X_train, X_test, y_train, y_test = train_test_split(X_imputed, y)\n",
    "X_imputed.head(6)"
   ]
  },
  {
   "cell_type": "code",
   "execution_count": 19,
   "metadata": {},
   "outputs": [
    {
     "name": "stdout",
     "output_type": "stream",
     "text": [
      "LogReg\n",
      "0.5064293162706848\n",
      "RF\n",
      "0.5749385759358245\n",
      "KNN\n",
      "0.5520558856558826\n",
      "DTree\n",
      "0.5964772283300094\n",
      "GNB\n",
      "0.5137042490162647\n",
      "[08:23:05] WARNING: C:/Users/Administrator/workspace/xgboost-win64_release_1.3.0/src/learner.cc:1061: Starting in XGBoost 1.3.0, the default evaluation metric used with the objective 'binary:logistic' was changed from 'error' to 'logloss'. Explicitly set eval_metric if you'd like to restore the old behavior.\n"
     ]
    },
    {
     "name": "stderr",
     "output_type": "stream",
     "text": [
      "C:\\Users\\egadi\\AppData\\Local\\Packages\\PythonSoftwareFoundation.Python.3.8_qbz5n2kfra8p0\\LocalCache\\local-packages\\Python38\\site-packages\\xgboost\\sklearn.py:888: UserWarning: The use of label encoder in XGBClassifier is deprecated and will be removed in a future release. To remove this warning, do the following: 1) Pass option use_label_encoder=False when constructing XGBClassifier object; and 2) Encode your labels (y) as integers starting with 0, i.e. 0, 1, 2, ..., [num_class - 1].\n",
      "  warnings.warn(label_encoder_deprecation_msg, UserWarning)\n"
     ]
    },
    {
     "name": "stdout",
     "output_type": "stream",
     "text": [
      "XGB\n",
      "0.5876622651061368\n"
     ]
    }
   ],
   "source": [
    "models = [\n",
    "          ('LogReg', LogisticRegression()), \n",
    "          ('RF', RandomForestClassifier()),\n",
    "          ('KNN', KNeighborsClassifier()),\n",
    "          ('DTree', DecisionTreeClassifier()), \n",
    "          ('GNB', GaussianNB()),\n",
    "          ('XGB', XGBClassifier())\n",
    "]\n",
    "\n",
    "for name, model in models:\n",
    "    pipe = Pipeline(steps=[\n",
    "        ('preprocessing', ColumnTransformer(transformers=[\n",
    "            ('numeric', Pipeline(steps=[\n",
    "                ('scale', StandardScaler())\n",
    "            ]), columns),\n",
    "        ])),\n",
    "        ('classifier', model)\n",
    "    ])\n",
    "    pipe.fit(X_train, y_train)\n",
    "    y_predicted=pipe.predict(X_test)\n",
    "    print(name)\n",
    "    print(roc_auc_score(y_test, y_predicted))\n",
    "    "
   ]
  },
  {
   "cell_type": "code",
   "execution_count": null,
   "metadata": {},
   "outputs": [],
   "source": []
  },
  {
   "cell_type": "code",
   "execution_count": null,
   "metadata": {},
   "outputs": [],
   "source": []
  },
  {
   "cell_type": "code",
   "execution_count": null,
   "metadata": {},
   "outputs": [],
   "source": []
  },
  {
   "cell_type": "markdown",
   "metadata": {},
   "source": [
    "Now we will try imputing with median and from the example below LogisticRegression was the most accurate so we will exclude some other algorithms"
   ]
  },
  {
   "cell_type": "code",
   "execution_count": 21,
   "metadata": {},
   "outputs": [
    {
     "data": {
      "text/html": [
       "<div>\n",
       "<style scoped>\n",
       "    .dataframe tbody tr th:only-of-type {\n",
       "        vertical-align: middle;\n",
       "    }\n",
       "\n",
       "    .dataframe tbody tr th {\n",
       "        vertical-align: top;\n",
       "    }\n",
       "\n",
       "    .dataframe thead th {\n",
       "        text-align: right;\n",
       "    }\n",
       "</style>\n",
       "<table border=\"1\" class=\"dataframe\">\n",
       "  <thead>\n",
       "    <tr style=\"text-align: right;\">\n",
       "      <th></th>\n",
       "      <th>age</th>\n",
       "      <th>number_dependent_family_members</th>\n",
       "      <th>monthly_income</th>\n",
       "      <th>number_of_credit_lines</th>\n",
       "      <th>real_estate_loans</th>\n",
       "      <th>ratio_debt_payment_to_income</th>\n",
       "      <th>credit_line_utilization</th>\n",
       "      <th>number_of_previous_late_payments_up_to_59_days</th>\n",
       "      <th>number_of_previous_late_payments_up_to_89_days</th>\n",
       "      <th>number_of_previous_late_payments_90_days_or_more</th>\n",
       "    </tr>\n",
       "  </thead>\n",
       "  <tbody>\n",
       "    <tr>\n",
       "      <th>0</th>\n",
       "      <td>66.0</td>\n",
       "      <td>0.0</td>\n",
       "      <td>4000.0</td>\n",
       "      <td>8.0</td>\n",
       "      <td>1.0</td>\n",
       "      <td>0.569108</td>\n",
       "      <td>0.054888</td>\n",
       "      <td>0.0</td>\n",
       "      <td>0.0</td>\n",
       "      <td>0.0</td>\n",
       "    </tr>\n",
       "    <tr>\n",
       "      <th>1</th>\n",
       "      <td>61.0</td>\n",
       "      <td>2.0</td>\n",
       "      <td>4000.0</td>\n",
       "      <td>6.0</td>\n",
       "      <td>1.0</td>\n",
       "      <td>0.297176</td>\n",
       "      <td>0.101950</td>\n",
       "      <td>0.0</td>\n",
       "      <td>0.0</td>\n",
       "      <td>0.0</td>\n",
       "    </tr>\n",
       "    <tr>\n",
       "      <th>2</th>\n",
       "      <td>31.0</td>\n",
       "      <td>2.0</td>\n",
       "      <td>3040.0</td>\n",
       "      <td>8.0</td>\n",
       "      <td>0.0</td>\n",
       "      <td>0.160145</td>\n",
       "      <td>1.227135</td>\n",
       "      <td>4.0</td>\n",
       "      <td>0.0</td>\n",
       "      <td>0.0</td>\n",
       "    </tr>\n",
       "    <tr>\n",
       "      <th>3</th>\n",
       "      <td>54.0</td>\n",
       "      <td>4.0</td>\n",
       "      <td>10218.0</td>\n",
       "      <td>5.0</td>\n",
       "      <td>0.0</td>\n",
       "      <td>0.067913</td>\n",
       "      <td>0.083278</td>\n",
       "      <td>0.0</td>\n",
       "      <td>0.0</td>\n",
       "      <td>0.0</td>\n",
       "    </tr>\n",
       "    <tr>\n",
       "      <th>4</th>\n",
       "      <td>29.0</td>\n",
       "      <td>0.0</td>\n",
       "      <td>4468.0</td>\n",
       "      <td>6.0</td>\n",
       "      <td>0.0</td>\n",
       "      <td>0.328261</td>\n",
       "      <td>0.317446</td>\n",
       "      <td>0.0</td>\n",
       "      <td>0.0</td>\n",
       "      <td>0.0</td>\n",
       "    </tr>\n",
       "    <tr>\n",
       "      <th>5</th>\n",
       "      <td>39.0</td>\n",
       "      <td>2.0</td>\n",
       "      <td>4166.0</td>\n",
       "      <td>17.0</td>\n",
       "      <td>1.0</td>\n",
       "      <td>0.294673</td>\n",
       "      <td>0.176500</td>\n",
       "      <td>1.0</td>\n",
       "      <td>0.0</td>\n",
       "      <td>0.0</td>\n",
       "    </tr>\n",
       "  </tbody>\n",
       "</table>\n",
       "</div>"
      ],
      "text/plain": [
       "    age  number_dependent_family_members  monthly_income  \\\n",
       "0  66.0                              0.0          4000.0   \n",
       "1  61.0                              2.0          4000.0   \n",
       "2  31.0                              2.0          3040.0   \n",
       "3  54.0                              4.0         10218.0   \n",
       "4  29.0                              0.0          4468.0   \n",
       "5  39.0                              2.0          4166.0   \n",
       "\n",
       "   number_of_credit_lines  real_estate_loans  ratio_debt_payment_to_income  \\\n",
       "0                     8.0                1.0                      0.569108   \n",
       "1                     6.0                1.0                      0.297176   \n",
       "2                     8.0                0.0                      0.160145   \n",
       "3                     5.0                0.0                      0.067913   \n",
       "4                     6.0                0.0                      0.328261   \n",
       "5                    17.0                1.0                      0.294673   \n",
       "\n",
       "   credit_line_utilization  number_of_previous_late_payments_up_to_59_days  \\\n",
       "0                 0.054888                                             0.0   \n",
       "1                 0.101950                                             0.0   \n",
       "2                 1.227135                                             4.0   \n",
       "3                 0.083278                                             0.0   \n",
       "4                 0.317446                                             0.0   \n",
       "5                 0.176500                                             1.0   \n",
       "\n",
       "   number_of_previous_late_payments_up_to_89_days  \\\n",
       "0                                             0.0   \n",
       "1                                             0.0   \n",
       "2                                             0.0   \n",
       "3                                             0.0   \n",
       "4                                             0.0   \n",
       "5                                             0.0   \n",
       "\n",
       "   number_of_previous_late_payments_90_days_or_more  \n",
       "0                                               0.0  \n",
       "1                                               0.0  \n",
       "2                                               0.0  \n",
       "3                                               0.0  \n",
       "4                                               0.0  \n",
       "5                                               0.0  "
      ]
     },
     "execution_count": 21,
     "metadata": {},
     "output_type": "execute_result"
    }
   ],
   "source": [
    "simple_impute = SimpleImputer(strategy='median')\n",
    "X_imputed = simple_impute.fit_transform(X)\n",
    "X_imputed = pd.DataFrame(X_imputed)\n",
    "X_imputed.columns = columns\n",
    "X_train, X_test, y_train, y_test = train_test_split(X_imputed, y)\n",
    "X_imputed.head(6)"
   ]
  },
  {
   "cell_type": "code",
   "execution_count": 22,
   "metadata": {},
   "outputs": [
    {
     "name": "stdout",
     "output_type": "stream",
     "text": [
      "LogReg\n",
      "0.5045231416010009\n",
      "RF\n",
      "0.5751575730611933\n",
      "KNN\n",
      "0.5512450167290884\n",
      "DTree\n",
      "0.5991714930252007\n",
      "GNB\n",
      "0.5088009081642608\n",
      "[08:25:24] WARNING: C:/Users/Administrator/workspace/xgboost-win64_release_1.3.0/src/learner.cc:1061: Starting in XGBoost 1.3.0, the default evaluation metric used with the objective 'binary:logistic' was changed from 'error' to 'logloss'. Explicitly set eval_metric if you'd like to restore the old behavior.\n"
     ]
    },
    {
     "name": "stderr",
     "output_type": "stream",
     "text": [
      "C:\\Users\\egadi\\AppData\\Local\\Packages\\PythonSoftwareFoundation.Python.3.8_qbz5n2kfra8p0\\LocalCache\\local-packages\\Python38\\site-packages\\xgboost\\sklearn.py:888: UserWarning: The use of label encoder in XGBClassifier is deprecated and will be removed in a future release. To remove this warning, do the following: 1) Pass option use_label_encoder=False when constructing XGBClassifier object; and 2) Encode your labels (y) as integers starting with 0, i.e. 0, 1, 2, ..., [num_class - 1].\n",
      "  warnings.warn(label_encoder_deprecation_msg, UserWarning)\n"
     ]
    },
    {
     "name": "stdout",
     "output_type": "stream",
     "text": [
      "XGB\n",
      "0.5807147968965314\n"
     ]
    }
   ],
   "source": [
    "models = [\n",
    "         ('LogReg', LogisticRegression()), \n",
    "          ('RF', RandomForestClassifier()),\n",
    "          ('KNN', KNeighborsClassifier()),\n",
    "          ('DTree', DecisionTreeClassifier()), \n",
    "          ('GNB', GaussianNB()),\n",
    "          ('XGB', XGBClassifier())\n",
    "]\n",
    "\n",
    "for name, model in models:\n",
    "    pipe = Pipeline(steps=[\n",
    "        ('preprocessing', ColumnTransformer(transformers=[\n",
    "            ('numeric', Pipeline(steps=[\n",
    "                ('scale', StandardScaler())\n",
    "            ]), columns),\n",
    "        ])),\n",
    "        ('classifier', model)\n",
    "    ])\n",
    "    pipe.fit(X_train, y_train)\n",
    "    y_predicted=pipe.predict(X_test)\n",
    "    print(name)\n",
    "    print(roc_auc_score(y_test, y_predicted))"
   ]
  },
  {
   "cell_type": "markdown",
   "metadata": {},
   "source": [
    "#### We have witnessed that using mean as a imputing strategy type is more useful for our problem"
   ]
  },
  {
   "cell_type": "markdown",
   "metadata": {},
   "source": [
    "#### Now lets try Iterative Imputer"
   ]
  },
  {
   "cell_type": "code",
   "execution_count": 6,
   "metadata": {},
   "outputs": [],
   "source": [
    "from sklearn.experimental import enable_iterative_imputer\n",
    "from sklearn.impute import IterativeImputer\n",
    "imp_mean = IterativeImputer(random_state=0)"
   ]
  },
  {
   "cell_type": "code",
   "execution_count": 24,
   "metadata": {},
   "outputs": [
    {
     "data": {
      "text/html": [
       "<div>\n",
       "<style scoped>\n",
       "    .dataframe tbody tr th:only-of-type {\n",
       "        vertical-align: middle;\n",
       "    }\n",
       "\n",
       "    .dataframe tbody tr th {\n",
       "        vertical-align: top;\n",
       "    }\n",
       "\n",
       "    .dataframe thead th {\n",
       "        text-align: right;\n",
       "    }\n",
       "</style>\n",
       "<table border=\"1\" class=\"dataframe\">\n",
       "  <thead>\n",
       "    <tr style=\"text-align: right;\">\n",
       "      <th></th>\n",
       "      <th>age</th>\n",
       "      <th>number_dependent_family_members</th>\n",
       "      <th>monthly_income</th>\n",
       "      <th>number_of_credit_lines</th>\n",
       "      <th>real_estate_loans</th>\n",
       "      <th>ratio_debt_payment_to_income</th>\n",
       "      <th>credit_line_utilization</th>\n",
       "      <th>number_of_previous_late_payments_up_to_59_days</th>\n",
       "      <th>number_of_previous_late_payments_up_to_89_days</th>\n",
       "      <th>number_of_previous_late_payments_90_days_or_more</th>\n",
       "    </tr>\n",
       "  </thead>\n",
       "  <tbody>\n",
       "    <tr>\n",
       "      <th>0</th>\n",
       "      <td>66.0</td>\n",
       "      <td>0.531495</td>\n",
       "      <td>4000.0</td>\n",
       "      <td>9.435243</td>\n",
       "      <td>1.0</td>\n",
       "      <td>0.569108</td>\n",
       "      <td>0.054888</td>\n",
       "      <td>0.0</td>\n",
       "      <td>0.0</td>\n",
       "      <td>0.0</td>\n",
       "    </tr>\n",
       "    <tr>\n",
       "      <th>1</th>\n",
       "      <td>61.0</td>\n",
       "      <td>2.000000</td>\n",
       "      <td>4000.0</td>\n",
       "      <td>6.000000</td>\n",
       "      <td>1.0</td>\n",
       "      <td>0.297176</td>\n",
       "      <td>0.101950</td>\n",
       "      <td>0.0</td>\n",
       "      <td>0.0</td>\n",
       "      <td>0.0</td>\n",
       "    </tr>\n",
       "    <tr>\n",
       "      <th>2</th>\n",
       "      <td>31.0</td>\n",
       "      <td>2.000000</td>\n",
       "      <td>3040.0</td>\n",
       "      <td>8.000000</td>\n",
       "      <td>0.0</td>\n",
       "      <td>0.160145</td>\n",
       "      <td>1.227135</td>\n",
       "      <td>4.0</td>\n",
       "      <td>0.0</td>\n",
       "      <td>0.0</td>\n",
       "    </tr>\n",
       "    <tr>\n",
       "      <th>3</th>\n",
       "      <td>54.0</td>\n",
       "      <td>4.000000</td>\n",
       "      <td>10218.0</td>\n",
       "      <td>5.000000</td>\n",
       "      <td>0.0</td>\n",
       "      <td>0.067913</td>\n",
       "      <td>0.083278</td>\n",
       "      <td>0.0</td>\n",
       "      <td>0.0</td>\n",
       "      <td>0.0</td>\n",
       "    </tr>\n",
       "    <tr>\n",
       "      <th>4</th>\n",
       "      <td>29.0</td>\n",
       "      <td>0.000000</td>\n",
       "      <td>4468.0</td>\n",
       "      <td>6.000000</td>\n",
       "      <td>0.0</td>\n",
       "      <td>0.328261</td>\n",
       "      <td>0.317446</td>\n",
       "      <td>0.0</td>\n",
       "      <td>0.0</td>\n",
       "      <td>0.0</td>\n",
       "    </tr>\n",
       "    <tr>\n",
       "      <th>5</th>\n",
       "      <td>39.0</td>\n",
       "      <td>2.000000</td>\n",
       "      <td>4166.0</td>\n",
       "      <td>17.000000</td>\n",
       "      <td>1.0</td>\n",
       "      <td>35.379423</td>\n",
       "      <td>4.686312</td>\n",
       "      <td>1.0</td>\n",
       "      <td>0.0</td>\n",
       "      <td>0.0</td>\n",
       "    </tr>\n",
       "  </tbody>\n",
       "</table>\n",
       "</div>"
      ],
      "text/plain": [
       "    age  number_dependent_family_members  monthly_income  \\\n",
       "0  66.0                         0.531495          4000.0   \n",
       "1  61.0                         2.000000          4000.0   \n",
       "2  31.0                         2.000000          3040.0   \n",
       "3  54.0                         4.000000         10218.0   \n",
       "4  29.0                         0.000000          4468.0   \n",
       "5  39.0                         2.000000          4166.0   \n",
       "\n",
       "   number_of_credit_lines  real_estate_loans  ratio_debt_payment_to_income  \\\n",
       "0                9.435243                1.0                      0.569108   \n",
       "1                6.000000                1.0                      0.297176   \n",
       "2                8.000000                0.0                      0.160145   \n",
       "3                5.000000                0.0                      0.067913   \n",
       "4                6.000000                0.0                      0.328261   \n",
       "5               17.000000                1.0                     35.379423   \n",
       "\n",
       "   credit_line_utilization  number_of_previous_late_payments_up_to_59_days  \\\n",
       "0                 0.054888                                             0.0   \n",
       "1                 0.101950                                             0.0   \n",
       "2                 1.227135                                             4.0   \n",
       "3                 0.083278                                             0.0   \n",
       "4                 0.317446                                             0.0   \n",
       "5                 4.686312                                             1.0   \n",
       "\n",
       "   number_of_previous_late_payments_up_to_89_days  \\\n",
       "0                                             0.0   \n",
       "1                                             0.0   \n",
       "2                                             0.0   \n",
       "3                                             0.0   \n",
       "4                                             0.0   \n",
       "5                                             0.0   \n",
       "\n",
       "   number_of_previous_late_payments_90_days_or_more  \n",
       "0                                               0.0  \n",
       "1                                               0.0  \n",
       "2                                               0.0  \n",
       "3                                               0.0  \n",
       "4                                               0.0  \n",
       "5                                               0.0  "
      ]
     },
     "execution_count": 24,
     "metadata": {},
     "output_type": "execute_result"
    }
   ],
   "source": [
    "X_imputed = imp_mean.fit_transform(X)\n",
    "X_imputed = pd.DataFrame(X_imputed)\n",
    "X_imputed.columns = columns\n",
    "X_train, X_test, y_train, y_test = train_test_split(X_imputed, y)\n",
    "X_imputed.head(6)"
   ]
  },
  {
   "cell_type": "code",
   "execution_count": 25,
   "metadata": {},
   "outputs": [
    {
     "name": "stdout",
     "output_type": "stream",
     "text": [
      "RF\n",
      "0.573945734102859\n",
      "DTree\n",
      "0.6026336358888337\n",
      "[08:27:59] WARNING: C:/Users/Administrator/workspace/xgboost-win64_release_1.3.0/src/learner.cc:1061: Starting in XGBoost 1.3.0, the default evaluation metric used with the objective 'binary:logistic' was changed from 'error' to 'logloss'. Explicitly set eval_metric if you'd like to restore the old behavior.\n"
     ]
    },
    {
     "name": "stderr",
     "output_type": "stream",
     "text": [
      "C:\\Users\\egadi\\AppData\\Local\\Packages\\PythonSoftwareFoundation.Python.3.8_qbz5n2kfra8p0\\LocalCache\\local-packages\\Python38\\site-packages\\xgboost\\sklearn.py:888: UserWarning: The use of label encoder in XGBClassifier is deprecated and will be removed in a future release. To remove this warning, do the following: 1) Pass option use_label_encoder=False when constructing XGBClassifier object; and 2) Encode your labels (y) as integers starting with 0, i.e. 0, 1, 2, ..., [num_class - 1].\n",
      "  warnings.warn(label_encoder_deprecation_msg, UserWarning)\n"
     ]
    },
    {
     "name": "stdout",
     "output_type": "stream",
     "text": [
      "XGB\n",
      "0.5827468464132588\n"
     ]
    }
   ],
   "source": [
    "models = [\n",
    "          ('RF', RandomForestClassifier()),\n",
    "          ('DTree', DecisionTreeClassifier()), \n",
    "          ('XGB', XGBClassifier())\n",
    "]\n",
    "\n",
    "for name, model in models:\n",
    "    pipe = Pipeline(steps=[\n",
    "        ('preprocessing', ColumnTransformer(transformers=[\n",
    "            ('numeric', Pipeline(steps=[\n",
    "                ('scale', StandardScaler())\n",
    "            ]), columns),\n",
    "        ])),\n",
    "        ('classifier', model)\n",
    "    ])\n",
    "    pipe.fit(X_train, y_train)\n",
    "    y_predicted=pipe.predict(X_test)\n",
    "    print(name)\n",
    "    print(roc_auc_score(y_test, y_predicted))"
   ]
  },
  {
   "cell_type": "markdown",
   "metadata": {},
   "source": [
    "Iterative imputer performed better than SimpleImputer with median strategy"
   ]
  },
  {
   "cell_type": "code",
   "execution_count": null,
   "metadata": {},
   "outputs": [],
   "source": []
  },
  {
   "cell_type": "code",
   "execution_count": null,
   "metadata": {},
   "outputs": [],
   "source": []
  },
  {
   "cell_type": "code",
   "execution_count": null,
   "metadata": {},
   "outputs": [],
   "source": []
  },
  {
   "cell_type": "markdown",
   "metadata": {},
   "source": [
    "### Now that we know IterativeImputer is our 'go to' we can start detecting and removing outliers"
   ]
  },
  {
   "cell_type": "code",
   "execution_count": 13,
   "metadata": {},
   "outputs": [],
   "source": [
    "imp_mean = IterativeImputer(random_state=0)\n",
    "X_imputed = imp_mean.fit_transform(X)\n",
    "X_imputed = pd.DataFrame(X_imputed)\n",
    "X_imputed.columns = columns\n",
    "X = X_imputed"
   ]
  },
  {
   "cell_type": "code",
   "execution_count": null,
   "metadata": {},
   "outputs": [],
   "source": []
  },
  {
   "cell_type": "code",
   "execution_count": null,
   "metadata": {},
   "outputs": [],
   "source": []
  },
  {
   "cell_type": "code",
   "execution_count": null,
   "metadata": {},
   "outputs": [],
   "source": []
  },
  {
   "cell_type": "markdown",
   "metadata": {},
   "source": [
    "### First we will use Isolation Forest technique"
   ]
  },
  {
   "cell_type": "markdown",
   "metadata": {},
   "source": [
    "We will detect and remove outliers before train test split"
   ]
  },
  {
   "cell_type": "code",
   "execution_count": 15,
   "metadata": {},
   "outputs": [],
   "source": [
    "iso = IsolationForest(contaminattetion=.1)"
   ]
  },
  {
   "cell_type": "code",
   "execution_count": 16,
   "metadata": {},
   "outputs": [
    {
     "data": {
      "text/plain": [
       "(72161,)"
      ]
     },
     "execution_count": 16,
     "metadata": {},
     "output_type": "execute_result"
    }
   ],
   "source": [
    "yhat = iso.fit_predict(X)\n",
    "yhat.shape"
   ]
  },
  {
   "cell_type": "code",
   "execution_count": 17,
   "metadata": {},
   "outputs": [
    {
     "data": {
      "text/plain": [
       "(array([-1,  1]), array([ 7216, 64945], dtype=int64))"
      ]
     },
     "execution_count": 17,
     "metadata": {},
     "output_type": "execute_result"
    }
   ],
   "source": [
    "np.unique(yhat, return_counts=True)"
   ]
  },
  {
   "cell_type": "markdown",
   "metadata": {},
   "source": [
    "IsolationForest totaly detected 7216 outliers out of 72161"
   ]
  },
  {
   "cell_type": "markdown",
   "metadata": {},
   "source": [
    "X_out and y_out are the ones with no outliers"
   ]
  },
  {
   "cell_type": "code",
   "execution_count": 18,
   "metadata": {
    "scrolled": true
   },
   "outputs": [],
   "source": [
    "mask = yhat != -1\n",
    "X_out, y_out = X[mask], y[mask]"
   ]
  },
  {
   "cell_type": "code",
   "execution_count": 19,
   "metadata": {},
   "outputs": [
    {
     "data": {
      "text/plain": [
       "(64945, 10)"
      ]
     },
     "execution_count": 19,
     "metadata": {},
     "output_type": "execute_result"
    }
   ],
   "source": [
    "X_out.shape"
   ]
  },
  {
   "cell_type": "code",
   "execution_count": 20,
   "metadata": {},
   "outputs": [
    {
     "data": {
      "text/html": [
       "<div>\n",
       "<style scoped>\n",
       "    .dataframe tbody tr th:only-of-type {\n",
       "        vertical-align: middle;\n",
       "    }\n",
       "\n",
       "    .dataframe tbody tr th {\n",
       "        vertical-align: top;\n",
       "    }\n",
       "\n",
       "    .dataframe thead th {\n",
       "        text-align: right;\n",
       "    }\n",
       "</style>\n",
       "<table border=\"1\" class=\"dataframe\">\n",
       "  <thead>\n",
       "    <tr style=\"text-align: right;\">\n",
       "      <th></th>\n",
       "      <th>age</th>\n",
       "      <th>number_dependent_family_members</th>\n",
       "      <th>monthly_income</th>\n",
       "      <th>number_of_credit_lines</th>\n",
       "      <th>real_estate_loans</th>\n",
       "      <th>ratio_debt_payment_to_income</th>\n",
       "      <th>credit_line_utilization</th>\n",
       "      <th>number_of_previous_late_payments_up_to_59_days</th>\n",
       "      <th>number_of_previous_late_payments_up_to_89_days</th>\n",
       "      <th>number_of_previous_late_payments_90_days_or_more</th>\n",
       "    </tr>\n",
       "  </thead>\n",
       "  <tbody>\n",
       "    <tr>\n",
       "      <th>0</th>\n",
       "      <td>66.000000</td>\n",
       "      <td>0.531495</td>\n",
       "      <td>4000.0</td>\n",
       "      <td>9.435243</td>\n",
       "      <td>1.0</td>\n",
       "      <td>0.569108</td>\n",
       "      <td>0.054888</td>\n",
       "      <td>0.0</td>\n",
       "      <td>0.0</td>\n",
       "      <td>0.0</td>\n",
       "    </tr>\n",
       "    <tr>\n",
       "      <th>1</th>\n",
       "      <td>61.000000</td>\n",
       "      <td>2.000000</td>\n",
       "      <td>4000.0</td>\n",
       "      <td>6.000000</td>\n",
       "      <td>1.0</td>\n",
       "      <td>0.297176</td>\n",
       "      <td>0.101950</td>\n",
       "      <td>0.0</td>\n",
       "      <td>0.0</td>\n",
       "      <td>0.0</td>\n",
       "    </tr>\n",
       "    <tr>\n",
       "      <th>3</th>\n",
       "      <td>54.000000</td>\n",
       "      <td>4.000000</td>\n",
       "      <td>10218.0</td>\n",
       "      <td>5.000000</td>\n",
       "      <td>0.0</td>\n",
       "      <td>0.067913</td>\n",
       "      <td>0.083278</td>\n",
       "      <td>0.0</td>\n",
       "      <td>0.0</td>\n",
       "      <td>0.0</td>\n",
       "    </tr>\n",
       "    <tr>\n",
       "      <th>4</th>\n",
       "      <td>29.000000</td>\n",
       "      <td>0.000000</td>\n",
       "      <td>4468.0</td>\n",
       "      <td>6.000000</td>\n",
       "      <td>0.0</td>\n",
       "      <td>0.328261</td>\n",
       "      <td>0.317446</td>\n",
       "      <td>0.0</td>\n",
       "      <td>0.0</td>\n",
       "      <td>0.0</td>\n",
       "    </tr>\n",
       "    <tr>\n",
       "      <th>7</th>\n",
       "      <td>51.702857</td>\n",
       "      <td>0.000000</td>\n",
       "      <td>2916.0</td>\n",
       "      <td>5.000000</td>\n",
       "      <td>0.0</td>\n",
       "      <td>0.124100</td>\n",
       "      <td>0.067427</td>\n",
       "      <td>0.0</td>\n",
       "      <td>0.0</td>\n",
       "      <td>0.0</td>\n",
       "    </tr>\n",
       "  </tbody>\n",
       "</table>\n",
       "</div>"
      ],
      "text/plain": [
       "         age  number_dependent_family_members  monthly_income  \\\n",
       "0  66.000000                         0.531495          4000.0   \n",
       "1  61.000000                         2.000000          4000.0   \n",
       "3  54.000000                         4.000000         10218.0   \n",
       "4  29.000000                         0.000000          4468.0   \n",
       "7  51.702857                         0.000000          2916.0   \n",
       "\n",
       "   number_of_credit_lines  real_estate_loans  ratio_debt_payment_to_income  \\\n",
       "0                9.435243                1.0                      0.569108   \n",
       "1                6.000000                1.0                      0.297176   \n",
       "3                5.000000                0.0                      0.067913   \n",
       "4                6.000000                0.0                      0.328261   \n",
       "7                5.000000                0.0                      0.124100   \n",
       "\n",
       "   credit_line_utilization  number_of_previous_late_payments_up_to_59_days  \\\n",
       "0                 0.054888                                             0.0   \n",
       "1                 0.101950                                             0.0   \n",
       "3                 0.083278                                             0.0   \n",
       "4                 0.317446                                             0.0   \n",
       "7                 0.067427                                             0.0   \n",
       "\n",
       "   number_of_previous_late_payments_up_to_89_days  \\\n",
       "0                                             0.0   \n",
       "1                                             0.0   \n",
       "3                                             0.0   \n",
       "4                                             0.0   \n",
       "7                                             0.0   \n",
       "\n",
       "   number_of_previous_late_payments_90_days_or_more  \n",
       "0                                               0.0  \n",
       "1                                               0.0  \n",
       "3                                               0.0  \n",
       "4                                               0.0  \n",
       "7                                               0.0  "
      ]
     },
     "execution_count": 20,
     "metadata": {},
     "output_type": "execute_result"
    }
   ],
   "source": [
    "X_out.head()"
   ]
  },
  {
   "cell_type": "markdown",
   "metadata": {},
   "source": [
    "#### Now lets do train test split, train them and compare different outlier detection techniques"
   ]
  },
  {
   "cell_type": "code",
   "execution_count": 33,
   "metadata": {},
   "outputs": [],
   "source": [
    "X_train, X_test, y_train, y_test = train_test_split(X_out, y_out)"
   ]
  },
  {
   "cell_type": "code",
   "execution_count": 38,
   "metadata": {},
   "outputs": [
    {
     "name": "stdout",
     "output_type": "stream",
     "text": [
      "RF\n",
      "0.5087435518114765\n",
      "DTree\n",
      "0.5462800516559032\n",
      "[09:31:11] WARNING: C:/Users/Administrator/workspace/xgboost-win64_release_1.3.0/src/learner.cc:1061: Starting in XGBoost 1.3.0, the default evaluation metric used with the objective 'binary:logistic' was changed from 'error' to 'logloss'. Explicitly set eval_metric if you'd like to restore the old behavior.\n"
     ]
    },
    {
     "name": "stderr",
     "output_type": "stream",
     "text": [
      "C:\\Users\\egadi\\AppData\\Local\\Packages\\PythonSoftwareFoundation.Python.3.8_qbz5n2kfra8p0\\LocalCache\\local-packages\\Python38\\site-packages\\xgboost\\sklearn.py:888: UserWarning: The use of label encoder in XGBClassifier is deprecated and will be removed in a future release. To remove this warning, do the following: 1) Pass option use_label_encoder=False when constructing XGBClassifier object; and 2) Encode your labels (y) as integers starting with 0, i.e. 0, 1, 2, ..., [num_class - 1].\n",
      "  warnings.warn(label_encoder_deprecation_msg, UserWarning)\n"
     ]
    },
    {
     "name": "stdout",
     "output_type": "stream",
     "text": [
      "XGB\n",
      "0.5114769484299787\n"
     ]
    }
   ],
   "source": [
    "models = [\n",
    "          ('RF', RandomForestClassifier()),\n",
    "          ('DTree', DecisionTreeClassifier()), \n",
    "          ('XGB', XGBClassifier())\n",
    "]\n",
    "\n",
    "for name, model in models:\n",
    "    pipe = Pipeline(steps=[\n",
    "        ('preprocessing', ColumnTransformer(transformers=[\n",
    "            ('numeric', Pipeline(steps=[\n",
    "                ('scale', StandardScaler())\n",
    "            ]), columns),\n",
    "        ])),\n",
    "        ('classifier', model)\n",
    "    ])\n",
    "    pipe.fit(X_train, y_train)\n",
    "    y_predicted=pipe.predict(X_test)\n",
    "    print(name)\n",
    "    print(roc_auc_score(y_test, y_predicted))"
   ]
  },
  {
   "cell_type": "markdown",
   "metadata": {},
   "source": [
    "The results are not what we expected. Accuracy is lower than what it was before and that's not what we aim for. So we will tyr another techniques"
   ]
  },
  {
   "cell_type": "code",
   "execution_count": null,
   "metadata": {},
   "outputs": [],
   "source": []
  },
  {
   "cell_type": "code",
   "execution_count": null,
   "metadata": {},
   "outputs": [],
   "source": []
  },
  {
   "cell_type": "code",
   "execution_count": null,
   "metadata": {},
   "outputs": [],
   "source": []
  },
  {
   "cell_type": "markdown",
   "metadata": {},
   "source": [
    "### Now let's use Local Outlier Factor"
   ]
  },
  {
   "cell_type": "code",
   "execution_count": 21,
   "metadata": {},
   "outputs": [],
   "source": [
    "from sklearn.neighbors import LocalOutlierFactor"
   ]
  },
  {
   "cell_type": "code",
   "execution_count": 36,
   "metadata": {},
   "outputs": [],
   "source": [
    "lof = LocalOutlierFactor()\n",
    "yhat = lof.fit_predict(X)"
   ]
  },
  {
   "cell_type": "code",
   "execution_count": 37,
   "metadata": {
    "scrolled": true
   },
   "outputs": [
    {
     "data": {
      "text/plain": [
       "(array([-1,  1]), array([ 5967, 66194], dtype=int64))"
      ]
     },
     "execution_count": 37,
     "metadata": {},
     "output_type": "execute_result"
    }
   ],
   "source": [
    "np.unique(yhat, return_counts=True)"
   ]
  },
  {
   "cell_type": "code",
   "execution_count": 39,
   "metadata": {},
   "outputs": [],
   "source": [
    "mask = yhat != -1\n",
    "X_out, y_out = X[mask], y[mask]"
   ]
  },
  {
   "cell_type": "code",
   "execution_count": 40,
   "metadata": {},
   "outputs": [],
   "source": [
    "X_train, X_test, y_train, y_test = train_test_split(X_out, y_out)"
   ]
  },
  {
   "cell_type": "code",
   "execution_count": 41,
   "metadata": {
    "scrolled": true
   },
   "outputs": [
    {
     "name": "stdout",
     "output_type": "stream",
     "text": [
      "RF\n",
      "0.5607345048586888\n",
      "DTree\n",
      "0.5870742564478401\n",
      "[09:36:14] WARNING: C:/Users/Administrator/workspace/xgboost-win64_release_1.3.0/src/learner.cc:1061: Starting in XGBoost 1.3.0, the default evaluation metric used with the objective 'binary:logistic' was changed from 'error' to 'logloss'. Explicitly set eval_metric if you'd like to restore the old behavior.\n"
     ]
    },
    {
     "name": "stderr",
     "output_type": "stream",
     "text": [
      "C:\\Users\\egadi\\AppData\\Local\\Packages\\PythonSoftwareFoundation.Python.3.8_qbz5n2kfra8p0\\LocalCache\\local-packages\\Python38\\site-packages\\xgboost\\sklearn.py:888: UserWarning: The use of label encoder in XGBClassifier is deprecated and will be removed in a future release. To remove this warning, do the following: 1) Pass option use_label_encoder=False when constructing XGBClassifier object; and 2) Encode your labels (y) as integers starting with 0, i.e. 0, 1, 2, ..., [num_class - 1].\n",
      "  warnings.warn(label_encoder_deprecation_msg, UserWarning)\n"
     ]
    },
    {
     "name": "stdout",
     "output_type": "stream",
     "text": [
      "XGB\n",
      "0.5734586540123364\n"
     ]
    }
   ],
   "source": [
    "models = [\n",
    "          ('RF', RandomForestClassifier()),\n",
    "          ('DTree', DecisionTreeClassifier()), \n",
    "          ('XGB', XGBClassifier())\n",
    "]\n",
    "\n",
    "for name, model in models:\n",
    "    pipe = Pipeline(steps=[\n",
    "        ('preprocessing', ColumnTransformer(transformers=[\n",
    "            ('numeric', Pipeline(steps=[\n",
    "                ('scale', StandardScaler())\n",
    "            ]), columns),\n",
    "        ])),\n",
    "        ('classifier', model)\n",
    "    ])\n",
    "    pipe.fit(X_train, y_train)\n",
    "    y_predicted=pipe.predict(X_test)\n",
    "    print(name)\n",
    "    print(roc_auc_score(y_test, y_predicted))"
   ]
  },
  {
   "cell_type": "markdown",
   "metadata": {},
   "source": [
    "Predictions from Local Outlier factor is better than IsolationForest"
   ]
  },
  {
   "cell_type": "code",
   "execution_count": null,
   "metadata": {},
   "outputs": [],
   "source": []
  },
  {
   "cell_type": "code",
   "execution_count": null,
   "metadata": {},
   "outputs": [],
   "source": []
  },
  {
   "cell_type": "code",
   "execution_count": 14,
   "metadata": {},
   "outputs": [],
   "source": [
    "from sklearn.svm import OneClassSVM\n",
    "from icecream import ic"
   ]
  },
  {
   "cell_type": "code",
   "execution_count": 16,
   "metadata": {},
   "outputs": [],
   "source": [
    "ee = OneClassSVM(nu=.01)\n",
    "yhat = ee.fit_predict(X)"
   ]
  },
  {
   "cell_type": "code",
   "execution_count": 17,
   "metadata": {},
   "outputs": [
    {
     "data": {
      "text/plain": [
       "(array([-1,  1], dtype=int64), array([  726, 71435], dtype=int64))"
      ]
     },
     "execution_count": 17,
     "metadata": {},
     "output_type": "execute_result"
    }
   ],
   "source": [
    "np.unique(yhat, return_counts=True)"
   ]
  },
  {
   "cell_type": "code",
   "execution_count": 18,
   "metadata": {},
   "outputs": [],
   "source": [
    "mask = yhat != -1\n",
    "X_out, y_out = X[mask], y[mask]"
   ]
  },
  {
   "cell_type": "code",
   "execution_count": 19,
   "metadata": {},
   "outputs": [],
   "source": [
    "X_train, X_test, y_train, y_test = train_test_split(X_out, y_out)"
   ]
  },
  {
   "cell_type": "code",
   "execution_count": 20,
   "metadata": {},
   "outputs": [
    {
     "name": "stdout",
     "output_type": "stream",
     "text": [
      "RF\n",
      "0.5697835651069603\n",
      "DTree\n",
      "0.5943123106897205\n",
      "[15:04:36] WARNING: C:/Users/Administrator/workspace/xgboost-win64_release_1.3.0/src/learner.cc:1061: Starting in XGBoost 1.3.0, the default evaluation metric used with the objective 'binary:logistic' was changed from 'error' to 'logloss'. Explicitly set eval_metric if you'd like to restore the old behavior.\n",
      "XGB\n",
      "0.5815764616331167\n"
     ]
    }
   ],
   "source": [
    "models = [\n",
    "          ('RF', RandomForestClassifier()),\n",
    "          ('DTree', DecisionTreeClassifier()), \n",
    "          ('XGB', XGBClassifier(use_label_encoder=False, objective='binary:logistic' ))\n",
    "]\n",
    "\n",
    "for name, model in models:\n",
    "    pipe = Pipeline(steps=[\n",
    "        ('preprocessing', ColumnTransformer(transformers=[\n",
    "            ('numeric', Pipeline(steps=[\n",
    "                ('scale', StandardScaler())\n",
    "            ]), columns),\n",
    "        ])),\n",
    "        ('classifier', model)\n",
    "    ])\n",
    "    pipe.fit(X_train, y_train)\n",
    "    y_predicted=pipe.predict(X_test)\n",
    "    print(name)\n",
    "    print(roc_auc_score(y_test, y_predicted))"
   ]
  },
  {
   "cell_type": "markdown",
   "metadata": {},
   "source": [
    "### From the methods outlier detection methods above One-Class  SVM is our *Winner*"
   ]
  },
  {
   "cell_type": "code",
   "execution_count": null,
   "metadata": {},
   "outputs": [],
   "source": []
  },
  {
   "cell_type": "code",
   "execution_count": 19,
   "metadata": {},
   "outputs": [],
   "source": [
    "X_new, y_new = X_out, y_out"
   ]
  },
  {
   "cell_type": "code",
   "execution_count": 20,
   "metadata": {},
   "outputs": [
    {
     "name": "stdout",
     "output_type": "stream",
     "text": [
      "(71435, 10)\n",
      "(71435,)\n"
     ]
    }
   ],
   "source": [
    "print(X_new.shape)\n",
    "print(y_new.shape)"
   ]
  },
  {
   "cell_type": "code",
   "execution_count": null,
   "metadata": {},
   "outputs": [],
   "source": []
  },
  {
   "cell_type": "code",
   "execution_count": null,
   "metadata": {},
   "outputs": [],
   "source": []
  },
  {
   "cell_type": "code",
   "execution_count": null,
   "metadata": {},
   "outputs": [],
   "source": []
  },
  {
   "cell_type": "code",
   "execution_count": null,
   "metadata": {},
   "outputs": [],
   "source": []
  },
  {
   "cell_type": "markdown",
   "metadata": {},
   "source": [
    "## In the following step we gonna try to reduce dimensions"
   ]
  },
  {
   "cell_type": "markdown",
   "metadata": {},
   "source": [
    "#### UMAP"
   ]
  },
  {
   "cell_type": "code",
   "execution_count": 38,
   "metadata": {},
   "outputs": [],
   "source": [
    "import umap.umap_ as umap"
   ]
  },
  {
   "cell_type": "code",
   "execution_count": 41,
   "metadata": {},
   "outputs": [],
   "source": [
    "umap_reducer = umap.UMAP(n_components=2)"
   ]
  },
  {
   "cell_type": "markdown",
   "metadata": {},
   "source": [
    "#### I have tried running UMAP dimension reduction on local jupyter notebook but it was taking way too long so decided run on kaggle and insert the picture"
   ]
  },
  {
   "cell_type": "markdown",
   "metadata": {},
   "source": [
    "![title](img/image.png)"
   ]
  },
  {
   "cell_type": "markdown",
   "metadata": {},
   "source": [
    "For our dataset it was difficult to catch some pattern on UMAP results"
   ]
  },
  {
   "cell_type": "code",
   "execution_count": null,
   "metadata": {},
   "outputs": [],
   "source": []
  },
  {
   "cell_type": "code",
   "execution_count": null,
   "metadata": {},
   "outputs": [],
   "source": []
  },
  {
   "cell_type": "code",
   "execution_count": 21,
   "metadata": {},
   "outputs": [
    {
     "data": {
      "text/plain": [
       "0    66461\n",
       "1     4974\n",
       "Name: defaulted_on_loan, dtype: int64"
      ]
     },
     "execution_count": 21,
     "metadata": {},
     "output_type": "execute_result"
    }
   ],
   "source": [
    "y_new.value_counts()"
   ]
  },
  {
   "cell_type": "markdown",
   "metadata": {},
   "source": [
    "## Our data is unbalanced. There are about 5000 default on loan rows and 66000 not default on load rows. If our model will label all rows as '1' still our model will be more than 90% accurate"
   ]
  },
  {
   "cell_type": "markdown",
   "metadata": {},
   "source": [
    "### We could try Oversampling, Undersampling or SMOTE(Synthetic Minority Over-sampling Technique). On our case we will try undesampling"
   ]
  },
  {
   "cell_type": "code",
   "execution_count": 22,
   "metadata": {},
   "outputs": [],
   "source": [
    "data_new = pd.concat([X_new, y_new], axis=1)"
   ]
  },
  {
   "cell_type": "code",
   "execution_count": 23,
   "metadata": {},
   "outputs": [
    {
     "name": "stderr",
     "output_type": "stream",
     "text": [
      "ic| number_of_1s: 4974\n"
     ]
    },
    {
     "data": {
      "text/html": [
       "<div>\n",
       "<style scoped>\n",
       "    .dataframe tbody tr th:only-of-type {\n",
       "        vertical-align: middle;\n",
       "    }\n",
       "\n",
       "    .dataframe tbody tr th {\n",
       "        vertical-align: top;\n",
       "    }\n",
       "\n",
       "    .dataframe thead th {\n",
       "        text-align: right;\n",
       "    }\n",
       "</style>\n",
       "<table border=\"1\" class=\"dataframe\">\n",
       "  <thead>\n",
       "    <tr style=\"text-align: right;\">\n",
       "      <th></th>\n",
       "      <th>age</th>\n",
       "      <th>number_dependent_family_members</th>\n",
       "      <th>monthly_income</th>\n",
       "      <th>number_of_credit_lines</th>\n",
       "      <th>real_estate_loans</th>\n",
       "      <th>ratio_debt_payment_to_income</th>\n",
       "      <th>credit_line_utilization</th>\n",
       "      <th>number_of_previous_late_payments_up_to_59_days</th>\n",
       "      <th>number_of_previous_late_payments_up_to_89_days</th>\n",
       "      <th>number_of_previous_late_payments_90_days_or_more</th>\n",
       "      <th>defaulted_on_loan</th>\n",
       "    </tr>\n",
       "  </thead>\n",
       "  <tbody>\n",
       "    <tr>\n",
       "      <th>2</th>\n",
       "      <td>31.000000</td>\n",
       "      <td>2.000000</td>\n",
       "      <td>3040.000000</td>\n",
       "      <td>8.000000</td>\n",
       "      <td>0.0</td>\n",
       "      <td>0.160145</td>\n",
       "      <td>1.227135</td>\n",
       "      <td>4.0</td>\n",
       "      <td>0.0</td>\n",
       "      <td>0.0</td>\n",
       "      <td>1</td>\n",
       "    </tr>\n",
       "    <tr>\n",
       "      <th>20</th>\n",
       "      <td>48.000000</td>\n",
       "      <td>1.000000</td>\n",
       "      <td>10800.000000</td>\n",
       "      <td>11.000000</td>\n",
       "      <td>3.0</td>\n",
       "      <td>0.590316</td>\n",
       "      <td>0.975767</td>\n",
       "      <td>3.0</td>\n",
       "      <td>0.0</td>\n",
       "      <td>0.0</td>\n",
       "      <td>1</td>\n",
       "    </tr>\n",
       "    <tr>\n",
       "      <th>30</th>\n",
       "      <td>42.168606</td>\n",
       "      <td>4.000000</td>\n",
       "      <td>6448.000000</td>\n",
       "      <td>11.000000</td>\n",
       "      <td>0.0</td>\n",
       "      <td>0.190107</td>\n",
       "      <td>0.865913</td>\n",
       "      <td>3.0</td>\n",
       "      <td>1.0</td>\n",
       "      <td>0.0</td>\n",
       "      <td>1</td>\n",
       "    </tr>\n",
       "    <tr>\n",
       "      <th>44</th>\n",
       "      <td>45.000000</td>\n",
       "      <td>0.000000</td>\n",
       "      <td>4938.000000</td>\n",
       "      <td>1.000000</td>\n",
       "      <td>0.0</td>\n",
       "      <td>0.068840</td>\n",
       "      <td>1.000000</td>\n",
       "      <td>0.0</td>\n",
       "      <td>1.0</td>\n",
       "      <td>2.0</td>\n",
       "      <td>1</td>\n",
       "    </tr>\n",
       "    <tr>\n",
       "      <th>65</th>\n",
       "      <td>44.000000</td>\n",
       "      <td>3.000000</td>\n",
       "      <td>3772.000000</td>\n",
       "      <td>8.000000</td>\n",
       "      <td>1.0</td>\n",
       "      <td>0.537503</td>\n",
       "      <td>0.207312</td>\n",
       "      <td>0.0</td>\n",
       "      <td>0.0</td>\n",
       "      <td>0.0</td>\n",
       "      <td>1</td>\n",
       "    </tr>\n",
       "    <tr>\n",
       "      <th>...</th>\n",
       "      <td>...</td>\n",
       "      <td>...</td>\n",
       "      <td>...</td>\n",
       "      <td>...</td>\n",
       "      <td>...</td>\n",
       "      <td>...</td>\n",
       "      <td>...</td>\n",
       "      <td>...</td>\n",
       "      <td>...</td>\n",
       "      <td>...</td>\n",
       "      <td>...</td>\n",
       "    </tr>\n",
       "    <tr>\n",
       "      <th>72070</th>\n",
       "      <td>24.000000</td>\n",
       "      <td>1.246024</td>\n",
       "      <td>3418.846084</td>\n",
       "      <td>0.000000</td>\n",
       "      <td>0.0</td>\n",
       "      <td>0.013540</td>\n",
       "      <td>1.000000</td>\n",
       "      <td>1.0</td>\n",
       "      <td>0.0</td>\n",
       "      <td>3.0</td>\n",
       "      <td>1</td>\n",
       "    </tr>\n",
       "    <tr>\n",
       "      <th>72086</th>\n",
       "      <td>45.000000</td>\n",
       "      <td>1.000000</td>\n",
       "      <td>10614.829761</td>\n",
       "      <td>8.000000</td>\n",
       "      <td>4.0</td>\n",
       "      <td>0.485349</td>\n",
       "      <td>0.073525</td>\n",
       "      <td>0.0</td>\n",
       "      <td>0.0</td>\n",
       "      <td>0.0</td>\n",
       "      <td>1</td>\n",
       "    </tr>\n",
       "    <tr>\n",
       "      <th>72120</th>\n",
       "      <td>51.877978</td>\n",
       "      <td>0.000000</td>\n",
       "      <td>2500.000000</td>\n",
       "      <td>4.000000</td>\n",
       "      <td>0.0</td>\n",
       "      <td>0.552579</td>\n",
       "      <td>0.465445</td>\n",
       "      <td>0.0</td>\n",
       "      <td>1.0</td>\n",
       "      <td>1.0</td>\n",
       "      <td>1</td>\n",
       "    </tr>\n",
       "    <tr>\n",
       "      <th>72129</th>\n",
       "      <td>62.000000</td>\n",
       "      <td>0.000000</td>\n",
       "      <td>945.000000</td>\n",
       "      <td>7.814023</td>\n",
       "      <td>0.0</td>\n",
       "      <td>0.707188</td>\n",
       "      <td>3.990244</td>\n",
       "      <td>1.0</td>\n",
       "      <td>0.0</td>\n",
       "      <td>0.0</td>\n",
       "      <td>1</td>\n",
       "    </tr>\n",
       "    <tr>\n",
       "      <th>72138</th>\n",
       "      <td>50.994057</td>\n",
       "      <td>0.000000</td>\n",
       "      <td>10000.000000</td>\n",
       "      <td>3.000000</td>\n",
       "      <td>0.0</td>\n",
       "      <td>0.044296</td>\n",
       "      <td>0.240083</td>\n",
       "      <td>0.0</td>\n",
       "      <td>0.0</td>\n",
       "      <td>0.0</td>\n",
       "      <td>1</td>\n",
       "    </tr>\n",
       "  </tbody>\n",
       "</table>\n",
       "<p>4974 rows × 11 columns</p>\n",
       "</div>"
      ],
      "text/plain": [
       "             age  number_dependent_family_members  monthly_income  \\\n",
       "2      31.000000                         2.000000     3040.000000   \n",
       "20     48.000000                         1.000000    10800.000000   \n",
       "30     42.168606                         4.000000     6448.000000   \n",
       "44     45.000000                         0.000000     4938.000000   \n",
       "65     44.000000                         3.000000     3772.000000   \n",
       "...          ...                              ...             ...   \n",
       "72070  24.000000                         1.246024     3418.846084   \n",
       "72086  45.000000                         1.000000    10614.829761   \n",
       "72120  51.877978                         0.000000     2500.000000   \n",
       "72129  62.000000                         0.000000      945.000000   \n",
       "72138  50.994057                         0.000000    10000.000000   \n",
       "\n",
       "       number_of_credit_lines  real_estate_loans  \\\n",
       "2                    8.000000                0.0   \n",
       "20                  11.000000                3.0   \n",
       "30                  11.000000                0.0   \n",
       "44                   1.000000                0.0   \n",
       "65                   8.000000                1.0   \n",
       "...                       ...                ...   \n",
       "72070                0.000000                0.0   \n",
       "72086                8.000000                4.0   \n",
       "72120                4.000000                0.0   \n",
       "72129                7.814023                0.0   \n",
       "72138                3.000000                0.0   \n",
       "\n",
       "       ratio_debt_payment_to_income  credit_line_utilization  \\\n",
       "2                          0.160145                 1.227135   \n",
       "20                         0.590316                 0.975767   \n",
       "30                         0.190107                 0.865913   \n",
       "44                         0.068840                 1.000000   \n",
       "65                         0.537503                 0.207312   \n",
       "...                             ...                      ...   \n",
       "72070                      0.013540                 1.000000   \n",
       "72086                      0.485349                 0.073525   \n",
       "72120                      0.552579                 0.465445   \n",
       "72129                      0.707188                 3.990244   \n",
       "72138                      0.044296                 0.240083   \n",
       "\n",
       "       number_of_previous_late_payments_up_to_59_days  \\\n",
       "2                                                 4.0   \n",
       "20                                                3.0   \n",
       "30                                                3.0   \n",
       "44                                                0.0   \n",
       "65                                                0.0   \n",
       "...                                               ...   \n",
       "72070                                             1.0   \n",
       "72086                                             0.0   \n",
       "72120                                             0.0   \n",
       "72129                                             1.0   \n",
       "72138                                             0.0   \n",
       "\n",
       "       number_of_previous_late_payments_up_to_89_days  \\\n",
       "2                                                 0.0   \n",
       "20                                                0.0   \n",
       "30                                                1.0   \n",
       "44                                                1.0   \n",
       "65                                                0.0   \n",
       "...                                               ...   \n",
       "72070                                             0.0   \n",
       "72086                                             0.0   \n",
       "72120                                             1.0   \n",
       "72129                                             0.0   \n",
       "72138                                             0.0   \n",
       "\n",
       "       number_of_previous_late_payments_90_days_or_more  defaulted_on_loan  \n",
       "2                                                   0.0                  1  \n",
       "20                                                  0.0                  1  \n",
       "30                                                  0.0                  1  \n",
       "44                                                  2.0                  1  \n",
       "65                                                  0.0                  1  \n",
       "...                                                 ...                ...  \n",
       "72070                                               3.0                  1  \n",
       "72086                                               0.0                  1  \n",
       "72120                                               1.0                  1  \n",
       "72129                                               0.0                  1  \n",
       "72138                                               0.0                  1  \n",
       "\n",
       "[4974 rows x 11 columns]"
      ]
     },
     "execution_count": 23,
     "metadata": {},
     "output_type": "execute_result"
    }
   ],
   "source": [
    "number_of_1s = len(data_new[data_new['defaulted_on_loan'] == 1])\n",
    "ic(number_of_1s)\n",
    "ones = data_new[data_new['defaulted_on_loan'] == 1]\n",
    "ones"
   ]
  },
  {
   "cell_type": "markdown",
   "metadata": {},
   "source": [
    "There are 4974 default on loan rows so we will pick the same amount of not default on loan rows"
   ]
  },
  {
   "cell_type": "code",
   "execution_count": 24,
   "metadata": {},
   "outputs": [],
   "source": [
    "zeros = data_new[data_new['defaulted_on_loan'] == 0]"
   ]
  },
  {
   "cell_type": "code",
   "execution_count": 25,
   "metadata": {},
   "outputs": [],
   "source": [
    "zeros = zeros.sample(n=4974, replace=False)"
   ]
  },
  {
   "cell_type": "markdown",
   "metadata": {},
   "source": [
    "Below we will concat equal amount of ones and zeros to the new variable"
   ]
  },
  {
   "cell_type": "code",
   "execution_count": 26,
   "metadata": {},
   "outputs": [
    {
     "data": {
      "text/html": [
       "<div>\n",
       "<style scoped>\n",
       "    .dataframe tbody tr th:only-of-type {\n",
       "        vertical-align: middle;\n",
       "    }\n",
       "\n",
       "    .dataframe tbody tr th {\n",
       "        vertical-align: top;\n",
       "    }\n",
       "\n",
       "    .dataframe thead th {\n",
       "        text-align: right;\n",
       "    }\n",
       "</style>\n",
       "<table border=\"1\" class=\"dataframe\">\n",
       "  <thead>\n",
       "    <tr style=\"text-align: right;\">\n",
       "      <th></th>\n",
       "      <th>age</th>\n",
       "      <th>number_dependent_family_members</th>\n",
       "      <th>monthly_income</th>\n",
       "      <th>number_of_credit_lines</th>\n",
       "      <th>real_estate_loans</th>\n",
       "      <th>ratio_debt_payment_to_income</th>\n",
       "      <th>credit_line_utilization</th>\n",
       "      <th>number_of_previous_late_payments_up_to_59_days</th>\n",
       "      <th>number_of_previous_late_payments_up_to_89_days</th>\n",
       "      <th>number_of_previous_late_payments_90_days_or_more</th>\n",
       "      <th>defaulted_on_loan</th>\n",
       "    </tr>\n",
       "  </thead>\n",
       "  <tbody>\n",
       "    <tr>\n",
       "      <th>2</th>\n",
       "      <td>31.000000</td>\n",
       "      <td>2.0</td>\n",
       "      <td>3040.000000</td>\n",
       "      <td>8.0</td>\n",
       "      <td>0.0</td>\n",
       "      <td>0.160145</td>\n",
       "      <td>1.227135</td>\n",
       "      <td>4.0</td>\n",
       "      <td>0.0</td>\n",
       "      <td>0.0</td>\n",
       "      <td>1</td>\n",
       "    </tr>\n",
       "    <tr>\n",
       "      <th>20</th>\n",
       "      <td>48.000000</td>\n",
       "      <td>1.0</td>\n",
       "      <td>10800.000000</td>\n",
       "      <td>11.0</td>\n",
       "      <td>3.0</td>\n",
       "      <td>0.590316</td>\n",
       "      <td>0.975767</td>\n",
       "      <td>3.0</td>\n",
       "      <td>0.0</td>\n",
       "      <td>0.0</td>\n",
       "      <td>1</td>\n",
       "    </tr>\n",
       "    <tr>\n",
       "      <th>30</th>\n",
       "      <td>42.168606</td>\n",
       "      <td>4.0</td>\n",
       "      <td>6448.000000</td>\n",
       "      <td>11.0</td>\n",
       "      <td>0.0</td>\n",
       "      <td>0.190107</td>\n",
       "      <td>0.865913</td>\n",
       "      <td>3.0</td>\n",
       "      <td>1.0</td>\n",
       "      <td>0.0</td>\n",
       "      <td>1</td>\n",
       "    </tr>\n",
       "    <tr>\n",
       "      <th>44</th>\n",
       "      <td>45.000000</td>\n",
       "      <td>0.0</td>\n",
       "      <td>4938.000000</td>\n",
       "      <td>1.0</td>\n",
       "      <td>0.0</td>\n",
       "      <td>0.068840</td>\n",
       "      <td>1.000000</td>\n",
       "      <td>0.0</td>\n",
       "      <td>1.0</td>\n",
       "      <td>2.0</td>\n",
       "      <td>1</td>\n",
       "    </tr>\n",
       "    <tr>\n",
       "      <th>65</th>\n",
       "      <td>44.000000</td>\n",
       "      <td>3.0</td>\n",
       "      <td>3772.000000</td>\n",
       "      <td>8.0</td>\n",
       "      <td>1.0</td>\n",
       "      <td>0.537503</td>\n",
       "      <td>0.207312</td>\n",
       "      <td>0.0</td>\n",
       "      <td>0.0</td>\n",
       "      <td>0.0</td>\n",
       "      <td>1</td>\n",
       "    </tr>\n",
       "    <tr>\n",
       "      <th>...</th>\n",
       "      <td>...</td>\n",
       "      <td>...</td>\n",
       "      <td>...</td>\n",
       "      <td>...</td>\n",
       "      <td>...</td>\n",
       "      <td>...</td>\n",
       "      <td>...</td>\n",
       "      <td>...</td>\n",
       "      <td>...</td>\n",
       "      <td>...</td>\n",
       "      <td>...</td>\n",
       "    </tr>\n",
       "    <tr>\n",
       "      <th>3180</th>\n",
       "      <td>44.000000</td>\n",
       "      <td>1.0</td>\n",
       "      <td>4500.000000</td>\n",
       "      <td>16.0</td>\n",
       "      <td>2.0</td>\n",
       "      <td>39.598290</td>\n",
       "      <td>0.014753</td>\n",
       "      <td>0.0</td>\n",
       "      <td>0.0</td>\n",
       "      <td>0.0</td>\n",
       "      <td>0</td>\n",
       "    </tr>\n",
       "    <tr>\n",
       "      <th>18236</th>\n",
       "      <td>44.738286</td>\n",
       "      <td>2.0</td>\n",
       "      <td>3700.000000</td>\n",
       "      <td>3.0</td>\n",
       "      <td>1.0</td>\n",
       "      <td>0.434207</td>\n",
       "      <td>0.272058</td>\n",
       "      <td>0.0</td>\n",
       "      <td>0.0</td>\n",
       "      <td>0.0</td>\n",
       "      <td>0</td>\n",
       "    </tr>\n",
       "    <tr>\n",
       "      <th>21139</th>\n",
       "      <td>32.000000</td>\n",
       "      <td>1.0</td>\n",
       "      <td>5300.000000</td>\n",
       "      <td>6.0</td>\n",
       "      <td>0.0</td>\n",
       "      <td>0.016601</td>\n",
       "      <td>0.275956</td>\n",
       "      <td>0.0</td>\n",
       "      <td>0.0</td>\n",
       "      <td>0.0</td>\n",
       "      <td>0</td>\n",
       "    </tr>\n",
       "    <tr>\n",
       "      <th>66578</th>\n",
       "      <td>47.000000</td>\n",
       "      <td>0.0</td>\n",
       "      <td>4697.000000</td>\n",
       "      <td>8.0</td>\n",
       "      <td>2.0</td>\n",
       "      <td>0.409749</td>\n",
       "      <td>0.432595</td>\n",
       "      <td>1.0</td>\n",
       "      <td>0.0</td>\n",
       "      <td>0.0</td>\n",
       "      <td>0</td>\n",
       "    </tr>\n",
       "    <tr>\n",
       "      <th>42519</th>\n",
       "      <td>36.000000</td>\n",
       "      <td>0.0</td>\n",
       "      <td>3558.082583</td>\n",
       "      <td>4.0</td>\n",
       "      <td>0.0</td>\n",
       "      <td>0.089115</td>\n",
       "      <td>0.017842</td>\n",
       "      <td>0.0</td>\n",
       "      <td>0.0</td>\n",
       "      <td>0.0</td>\n",
       "      <td>0</td>\n",
       "    </tr>\n",
       "  </tbody>\n",
       "</table>\n",
       "<p>9948 rows × 11 columns</p>\n",
       "</div>"
      ],
      "text/plain": [
       "             age  number_dependent_family_members  monthly_income  \\\n",
       "2      31.000000                              2.0     3040.000000   \n",
       "20     48.000000                              1.0    10800.000000   \n",
       "30     42.168606                              4.0     6448.000000   \n",
       "44     45.000000                              0.0     4938.000000   \n",
       "65     44.000000                              3.0     3772.000000   \n",
       "...          ...                              ...             ...   \n",
       "3180   44.000000                              1.0     4500.000000   \n",
       "18236  44.738286                              2.0     3700.000000   \n",
       "21139  32.000000                              1.0     5300.000000   \n",
       "66578  47.000000                              0.0     4697.000000   \n",
       "42519  36.000000                              0.0     3558.082583   \n",
       "\n",
       "       number_of_credit_lines  real_estate_loans  \\\n",
       "2                         8.0                0.0   \n",
       "20                       11.0                3.0   \n",
       "30                       11.0                0.0   \n",
       "44                        1.0                0.0   \n",
       "65                        8.0                1.0   \n",
       "...                       ...                ...   \n",
       "3180                     16.0                2.0   \n",
       "18236                     3.0                1.0   \n",
       "21139                     6.0                0.0   \n",
       "66578                     8.0                2.0   \n",
       "42519                     4.0                0.0   \n",
       "\n",
       "       ratio_debt_payment_to_income  credit_line_utilization  \\\n",
       "2                          0.160145                 1.227135   \n",
       "20                         0.590316                 0.975767   \n",
       "30                         0.190107                 0.865913   \n",
       "44                         0.068840                 1.000000   \n",
       "65                         0.537503                 0.207312   \n",
       "...                             ...                      ...   \n",
       "3180                      39.598290                 0.014753   \n",
       "18236                      0.434207                 0.272058   \n",
       "21139                      0.016601                 0.275956   \n",
       "66578                      0.409749                 0.432595   \n",
       "42519                      0.089115                 0.017842   \n",
       "\n",
       "       number_of_previous_late_payments_up_to_59_days  \\\n",
       "2                                                 4.0   \n",
       "20                                                3.0   \n",
       "30                                                3.0   \n",
       "44                                                0.0   \n",
       "65                                                0.0   \n",
       "...                                               ...   \n",
       "3180                                              0.0   \n",
       "18236                                             0.0   \n",
       "21139                                             0.0   \n",
       "66578                                             1.0   \n",
       "42519                                             0.0   \n",
       "\n",
       "       number_of_previous_late_payments_up_to_89_days  \\\n",
       "2                                                 0.0   \n",
       "20                                                0.0   \n",
       "30                                                1.0   \n",
       "44                                                1.0   \n",
       "65                                                0.0   \n",
       "...                                               ...   \n",
       "3180                                              0.0   \n",
       "18236                                             0.0   \n",
       "21139                                             0.0   \n",
       "66578                                             0.0   \n",
       "42519                                             0.0   \n",
       "\n",
       "       number_of_previous_late_payments_90_days_or_more  defaulted_on_loan  \n",
       "2                                                   0.0                  1  \n",
       "20                                                  0.0                  1  \n",
       "30                                                  0.0                  1  \n",
       "44                                                  2.0                  1  \n",
       "65                                                  0.0                  1  \n",
       "...                                                 ...                ...  \n",
       "3180                                                0.0                  0  \n",
       "18236                                               0.0                  0  \n",
       "21139                                               0.0                  0  \n",
       "66578                                               0.0                  0  \n",
       "42519                                               0.0                  0  \n",
       "\n",
       "[9948 rows x 11 columns]"
      ]
     },
     "execution_count": 26,
     "metadata": {},
     "output_type": "execute_result"
    }
   ],
   "source": [
    "# data undersampled\n",
    "df_und = ones.append(zeros)\n",
    "df_und.reset_index(drop=True)\n",
    "df_und"
   ]
  },
  {
   "cell_type": "markdown",
   "metadata": {},
   "source": [
    "## Now that our data is balanced we could train our model. We will try K-Fold, GridSearch, Bagging and another interesting techniques"
   ]
  },
  {
   "cell_type": "code",
   "execution_count": 27,
   "metadata": {},
   "outputs": [],
   "source": [
    "from sklearn.model_selection import KFold\n",
    "from sklearn.metrics import confusion_matrix,precision_recall_curve, \\\n",
    "roc_auc_score,roc_curve,recall_score,classification_report, f1_score"
   ]
  },
  {
   "cell_type": "code",
   "execution_count": 28,
   "metadata": {},
   "outputs": [],
   "source": [
    "X_und = df_und[columns]\n",
    "y_und = pd.DataFrame(df_und.iloc[:, -1])"
   ]
  },
  {
   "cell_type": "code",
   "execution_count": 29,
   "metadata": {},
   "outputs": [],
   "source": [
    "X_und = X_und.reset_index(drop=False)\n",
    "y_und = y_und.reset_index(drop=False)"
   ]
  },
  {
   "cell_type": "code",
   "execution_count": 30,
   "metadata": {},
   "outputs": [],
   "source": [
    "X_und = X_und.drop(['index'], axis=1)\n",
    "y_und = y_und.drop(['index'], axis=1)"
   ]
  },
  {
   "cell_type": "code",
   "execution_count": 31,
   "metadata": {},
   "outputs": [],
   "source": [
    "kf = KFold(2, shuffle=True)"
   ]
  },
  {
   "cell_type": "code",
   "execution_count": 32,
   "metadata": {},
   "outputs": [
    {
     "name": "stdout",
     "output_type": "stream",
     "text": [
      "0.6747494196853404\n",
      "0.6640602702556295\n"
     ]
    }
   ],
   "source": [
    "roc = []\n",
    "recall = []\n",
    "for train_idx, test_idx in kf.split(X_und):\n",
    "    X_train, X_test = X_und.iloc[train_idx], X_und.iloc[test_idx]\n",
    "    y_train, y_test = y_und.iloc[train_idx], y_und.iloc[test_idx]\n",
    "    \n",
    "    pipe = Pipeline(steps=[\n",
    "        ('preprocessing', ColumnTransformer(transformers=[\n",
    "            ('numeric', Pipeline(steps=[\n",
    "                ('scale', StandardScaler())\n",
    "            ]), columns),\n",
    "        ])),\n",
    "        ('classifier', DecisionTreeClassifier())\n",
    "    ])\n",
    "    pipe.fit(X_train, y_train)\n",
    "    y_predicted=pipe.predict(X_test)\n",
    "    roc.append(roc_auc_score(y_test, y_predicted))\n",
    "    recall.append(recall_score(y_test, y_predicted))\n",
    "    \n",
    "print(np.mean(roc))\n",
    "print(np.mean(recall))\n",
    "# print(np.std(accuracies))\n"
   ]
  },
  {
   "cell_type": "code",
   "execution_count": 165,
   "metadata": {},
   "outputs": [
    {
     "data": {
      "text/plain": [
       "DecisionTreeClassifier()"
      ]
     },
     "execution_count": 165,
     "metadata": {},
     "output_type": "execute_result"
    }
   ],
   "source": [
    "mmm = DecisionTreeClassifier()\n",
    "X_train, X_test, y_train, y_test = train_test_split(X_und, y_und)\n",
    "mmm.fit(X_train, y_train)"
   ]
  },
  {
   "cell_type": "code",
   "execution_count": 166,
   "metadata": {},
   "outputs": [
    {
     "data": {
      "text/plain": [
       "0.6670771746357821"
      ]
     },
     "execution_count": 166,
     "metadata": {},
     "output_type": "execute_result"
    }
   ],
   "source": [
    "roc_auc_score(y_test, mmm.predict(X_test))"
   ]
  },
  {
   "cell_type": "code",
   "execution_count": 132,
   "metadata": {},
   "outputs": [],
   "source": [
    "?roc_auc_score"
   ]
  },
  {
   "cell_type": "code",
   "execution_count": 155,
   "metadata": {},
   "outputs": [
    {
     "data": {
      "text/html": [
       "<div>\n",
       "<style scoped>\n",
       "    .dataframe tbody tr th:only-of-type {\n",
       "        vertical-align: middle;\n",
       "    }\n",
       "\n",
       "    .dataframe tbody tr th {\n",
       "        vertical-align: top;\n",
       "    }\n",
       "\n",
       "    .dataframe thead th {\n",
       "        text-align: right;\n",
       "    }\n",
       "</style>\n",
       "<table border=\"1\" class=\"dataframe\">\n",
       "  <thead>\n",
       "    <tr style=\"text-align: right;\">\n",
       "      <th></th>\n",
       "      <th>age</th>\n",
       "      <th>number_dependent_family_members</th>\n",
       "      <th>monthly_income</th>\n",
       "      <th>number_of_credit_lines</th>\n",
       "      <th>real_estate_loans</th>\n",
       "      <th>ratio_debt_payment_to_income</th>\n",
       "      <th>credit_line_utilization</th>\n",
       "      <th>number_of_previous_late_payments_up_to_59_days</th>\n",
       "      <th>number_of_previous_late_payments_up_to_89_days</th>\n",
       "      <th>number_of_previous_late_payments_90_days_or_more</th>\n",
       "    </tr>\n",
       "  </thead>\n",
       "  <tbody>\n",
       "    <tr>\n",
       "      <th>0</th>\n",
       "      <td>31.000000</td>\n",
       "      <td>2.0</td>\n",
       "      <td>3040.0</td>\n",
       "      <td>8.000000</td>\n",
       "      <td>0.0</td>\n",
       "      <td>0.160145</td>\n",
       "      <td>1.227135</td>\n",
       "      <td>4.0</td>\n",
       "      <td>0.0</td>\n",
       "      <td>0.000000</td>\n",
       "    </tr>\n",
       "    <tr>\n",
       "      <th>1</th>\n",
       "      <td>48.000000</td>\n",
       "      <td>1.0</td>\n",
       "      <td>10800.0</td>\n",
       "      <td>11.000000</td>\n",
       "      <td>3.0</td>\n",
       "      <td>0.590316</td>\n",
       "      <td>0.975767</td>\n",
       "      <td>3.0</td>\n",
       "      <td>0.0</td>\n",
       "      <td>0.000000</td>\n",
       "    </tr>\n",
       "    <tr>\n",
       "      <th>2</th>\n",
       "      <td>42.168606</td>\n",
       "      <td>4.0</td>\n",
       "      <td>6448.0</td>\n",
       "      <td>11.000000</td>\n",
       "      <td>0.0</td>\n",
       "      <td>0.190107</td>\n",
       "      <td>0.865913</td>\n",
       "      <td>3.0</td>\n",
       "      <td>1.0</td>\n",
       "      <td>0.000000</td>\n",
       "    </tr>\n",
       "    <tr>\n",
       "      <th>3</th>\n",
       "      <td>45.000000</td>\n",
       "      <td>0.0</td>\n",
       "      <td>4938.0</td>\n",
       "      <td>1.000000</td>\n",
       "      <td>0.0</td>\n",
       "      <td>0.068840</td>\n",
       "      <td>1.000000</td>\n",
       "      <td>0.0</td>\n",
       "      <td>1.0</td>\n",
       "      <td>2.000000</td>\n",
       "    </tr>\n",
       "    <tr>\n",
       "      <th>4</th>\n",
       "      <td>44.000000</td>\n",
       "      <td>3.0</td>\n",
       "      <td>3772.0</td>\n",
       "      <td>8.000000</td>\n",
       "      <td>1.0</td>\n",
       "      <td>0.537503</td>\n",
       "      <td>0.207312</td>\n",
       "      <td>0.0</td>\n",
       "      <td>0.0</td>\n",
       "      <td>0.000000</td>\n",
       "    </tr>\n",
       "    <tr>\n",
       "      <th>...</th>\n",
       "      <td>...</td>\n",
       "      <td>...</td>\n",
       "      <td>...</td>\n",
       "      <td>...</td>\n",
       "      <td>...</td>\n",
       "      <td>...</td>\n",
       "      <td>...</td>\n",
       "      <td>...</td>\n",
       "      <td>...</td>\n",
       "      <td>...</td>\n",
       "    </tr>\n",
       "    <tr>\n",
       "      <th>9943</th>\n",
       "      <td>48.000000</td>\n",
       "      <td>2.0</td>\n",
       "      <td>3000.0</td>\n",
       "      <td>5.000000</td>\n",
       "      <td>0.0</td>\n",
       "      <td>0.236921</td>\n",
       "      <td>0.153832</td>\n",
       "      <td>0.0</td>\n",
       "      <td>0.0</td>\n",
       "      <td>0.000000</td>\n",
       "    </tr>\n",
       "    <tr>\n",
       "      <th>9944</th>\n",
       "      <td>58.000000</td>\n",
       "      <td>1.0</td>\n",
       "      <td>5528.0</td>\n",
       "      <td>23.000000</td>\n",
       "      <td>2.0</td>\n",
       "      <td>0.585458</td>\n",
       "      <td>0.407709</td>\n",
       "      <td>0.0</td>\n",
       "      <td>0.0</td>\n",
       "      <td>0.000000</td>\n",
       "    </tr>\n",
       "    <tr>\n",
       "      <th>9945</th>\n",
       "      <td>52.000000</td>\n",
       "      <td>2.0</td>\n",
       "      <td>4733.0</td>\n",
       "      <td>10.633445</td>\n",
       "      <td>2.0</td>\n",
       "      <td>0.299324</td>\n",
       "      <td>0.022274</td>\n",
       "      <td>0.0</td>\n",
       "      <td>0.0</td>\n",
       "      <td>0.000000</td>\n",
       "    </tr>\n",
       "    <tr>\n",
       "      <th>9946</th>\n",
       "      <td>53.377011</td>\n",
       "      <td>0.0</td>\n",
       "      <td>0.0</td>\n",
       "      <td>13.000000</td>\n",
       "      <td>1.0</td>\n",
       "      <td>1931.000000</td>\n",
       "      <td>0.006271</td>\n",
       "      <td>3.0</td>\n",
       "      <td>0.0</td>\n",
       "      <td>0.000000</td>\n",
       "    </tr>\n",
       "    <tr>\n",
       "      <th>9947</th>\n",
       "      <td>59.000000</td>\n",
       "      <td>0.0</td>\n",
       "      <td>7500.0</td>\n",
       "      <td>8.000000</td>\n",
       "      <td>2.0</td>\n",
       "      <td>0.360085</td>\n",
       "      <td>0.000000</td>\n",
       "      <td>0.0</td>\n",
       "      <td>0.0</td>\n",
       "      <td>-0.007831</td>\n",
       "    </tr>\n",
       "  </tbody>\n",
       "</table>\n",
       "<p>9948 rows × 10 columns</p>\n",
       "</div>"
      ],
      "text/plain": [
       "            age  number_dependent_family_members  monthly_income  \\\n",
       "0     31.000000                              2.0          3040.0   \n",
       "1     48.000000                              1.0         10800.0   \n",
       "2     42.168606                              4.0          6448.0   \n",
       "3     45.000000                              0.0          4938.0   \n",
       "4     44.000000                              3.0          3772.0   \n",
       "...         ...                              ...             ...   \n",
       "9943  48.000000                              2.0          3000.0   \n",
       "9944  58.000000                              1.0          5528.0   \n",
       "9945  52.000000                              2.0          4733.0   \n",
       "9946  53.377011                              0.0             0.0   \n",
       "9947  59.000000                              0.0          7500.0   \n",
       "\n",
       "      number_of_credit_lines  real_estate_loans  ratio_debt_payment_to_income  \\\n",
       "0                   8.000000                0.0                      0.160145   \n",
       "1                  11.000000                3.0                      0.590316   \n",
       "2                  11.000000                0.0                      0.190107   \n",
       "3                   1.000000                0.0                      0.068840   \n",
       "4                   8.000000                1.0                      0.537503   \n",
       "...                      ...                ...                           ...   \n",
       "9943                5.000000                0.0                      0.236921   \n",
       "9944               23.000000                2.0                      0.585458   \n",
       "9945               10.633445                2.0                      0.299324   \n",
       "9946               13.000000                1.0                   1931.000000   \n",
       "9947                8.000000                2.0                      0.360085   \n",
       "\n",
       "      credit_line_utilization  number_of_previous_late_payments_up_to_59_days  \\\n",
       "0                    1.227135                                             4.0   \n",
       "1                    0.975767                                             3.0   \n",
       "2                    0.865913                                             3.0   \n",
       "3                    1.000000                                             0.0   \n",
       "4                    0.207312                                             0.0   \n",
       "...                       ...                                             ...   \n",
       "9943                 0.153832                                             0.0   \n",
       "9944                 0.407709                                             0.0   \n",
       "9945                 0.022274                                             0.0   \n",
       "9946                 0.006271                                             3.0   \n",
       "9947                 0.000000                                             0.0   \n",
       "\n",
       "      number_of_previous_late_payments_up_to_89_days  \\\n",
       "0                                                0.0   \n",
       "1                                                0.0   \n",
       "2                                                1.0   \n",
       "3                                                1.0   \n",
       "4                                                0.0   \n",
       "...                                              ...   \n",
       "9943                                             0.0   \n",
       "9944                                             0.0   \n",
       "9945                                             0.0   \n",
       "9946                                             0.0   \n",
       "9947                                             0.0   \n",
       "\n",
       "      number_of_previous_late_payments_90_days_or_more  \n",
       "0                                             0.000000  \n",
       "1                                             0.000000  \n",
       "2                                             0.000000  \n",
       "3                                             2.000000  \n",
       "4                                             0.000000  \n",
       "...                                                ...  \n",
       "9943                                          0.000000  \n",
       "9944                                          0.000000  \n",
       "9945                                          0.000000  \n",
       "9946                                          0.000000  \n",
       "9947                                         -0.007831  \n",
       "\n",
       "[9948 rows x 10 columns]"
      ]
     },
     "execution_count": 155,
     "metadata": {},
     "output_type": "execute_result"
    }
   ],
   "source": [
    "X_und.drop(['level_0'], axis=1)"
   ]
  },
  {
   "cell_type": "code",
   "execution_count": 141,
   "metadata": {},
   "outputs": [
    {
     "data": {
      "text/html": [
       "<div>\n",
       "<style scoped>\n",
       "    .dataframe tbody tr th:only-of-type {\n",
       "        vertical-align: middle;\n",
       "    }\n",
       "\n",
       "    .dataframe tbody tr th {\n",
       "        vertical-align: top;\n",
       "    }\n",
       "\n",
       "    .dataframe thead th {\n",
       "        text-align: right;\n",
       "    }\n",
       "</style>\n",
       "<table border=\"1\" class=\"dataframe\">\n",
       "  <thead>\n",
       "    <tr style=\"text-align: right;\">\n",
       "      <th></th>\n",
       "      <th>age</th>\n",
       "      <th>number_dependent_family_members</th>\n",
       "      <th>monthly_income</th>\n",
       "      <th>number_of_credit_lines</th>\n",
       "      <th>real_estate_loans</th>\n",
       "      <th>ratio_debt_payment_to_income</th>\n",
       "      <th>credit_line_utilization</th>\n",
       "      <th>number_of_previous_late_payments_up_to_59_days</th>\n",
       "      <th>number_of_previous_late_payments_up_to_89_days</th>\n",
       "      <th>number_of_previous_late_payments_90_days_or_more</th>\n",
       "    </tr>\n",
       "  </thead>\n",
       "  <tbody>\n",
       "    <tr>\n",
       "      <th>0</th>\n",
       "      <td>31.000000</td>\n",
       "      <td>2.0</td>\n",
       "      <td>3040.0</td>\n",
       "      <td>8.000000</td>\n",
       "      <td>0.0</td>\n",
       "      <td>0.160145</td>\n",
       "      <td>1.227135</td>\n",
       "      <td>4.0</td>\n",
       "      <td>0.0</td>\n",
       "      <td>0.000000</td>\n",
       "    </tr>\n",
       "    <tr>\n",
       "      <th>1</th>\n",
       "      <td>48.000000</td>\n",
       "      <td>1.0</td>\n",
       "      <td>10800.0</td>\n",
       "      <td>11.000000</td>\n",
       "      <td>3.0</td>\n",
       "      <td>0.590316</td>\n",
       "      <td>0.975767</td>\n",
       "      <td>3.0</td>\n",
       "      <td>0.0</td>\n",
       "      <td>0.000000</td>\n",
       "    </tr>\n",
       "    <tr>\n",
       "      <th>2</th>\n",
       "      <td>42.168606</td>\n",
       "      <td>4.0</td>\n",
       "      <td>6448.0</td>\n",
       "      <td>11.000000</td>\n",
       "      <td>0.0</td>\n",
       "      <td>0.190107</td>\n",
       "      <td>0.865913</td>\n",
       "      <td>3.0</td>\n",
       "      <td>1.0</td>\n",
       "      <td>0.000000</td>\n",
       "    </tr>\n",
       "    <tr>\n",
       "      <th>3</th>\n",
       "      <td>45.000000</td>\n",
       "      <td>0.0</td>\n",
       "      <td>4938.0</td>\n",
       "      <td>1.000000</td>\n",
       "      <td>0.0</td>\n",
       "      <td>0.068840</td>\n",
       "      <td>1.000000</td>\n",
       "      <td>0.0</td>\n",
       "      <td>1.0</td>\n",
       "      <td>2.000000</td>\n",
       "    </tr>\n",
       "    <tr>\n",
       "      <th>4</th>\n",
       "      <td>44.000000</td>\n",
       "      <td>3.0</td>\n",
       "      <td>3772.0</td>\n",
       "      <td>8.000000</td>\n",
       "      <td>1.0</td>\n",
       "      <td>0.537503</td>\n",
       "      <td>0.207312</td>\n",
       "      <td>0.0</td>\n",
       "      <td>0.0</td>\n",
       "      <td>0.000000</td>\n",
       "    </tr>\n",
       "    <tr>\n",
       "      <th>...</th>\n",
       "      <td>...</td>\n",
       "      <td>...</td>\n",
       "      <td>...</td>\n",
       "      <td>...</td>\n",
       "      <td>...</td>\n",
       "      <td>...</td>\n",
       "      <td>...</td>\n",
       "      <td>...</td>\n",
       "      <td>...</td>\n",
       "      <td>...</td>\n",
       "    </tr>\n",
       "    <tr>\n",
       "      <th>9943</th>\n",
       "      <td>48.000000</td>\n",
       "      <td>2.0</td>\n",
       "      <td>3000.0</td>\n",
       "      <td>5.000000</td>\n",
       "      <td>0.0</td>\n",
       "      <td>0.236921</td>\n",
       "      <td>0.153832</td>\n",
       "      <td>0.0</td>\n",
       "      <td>0.0</td>\n",
       "      <td>0.000000</td>\n",
       "    </tr>\n",
       "    <tr>\n",
       "      <th>9944</th>\n",
       "      <td>58.000000</td>\n",
       "      <td>1.0</td>\n",
       "      <td>5528.0</td>\n",
       "      <td>23.000000</td>\n",
       "      <td>2.0</td>\n",
       "      <td>0.585458</td>\n",
       "      <td>0.407709</td>\n",
       "      <td>0.0</td>\n",
       "      <td>0.0</td>\n",
       "      <td>0.000000</td>\n",
       "    </tr>\n",
       "    <tr>\n",
       "      <th>9945</th>\n",
       "      <td>52.000000</td>\n",
       "      <td>2.0</td>\n",
       "      <td>4733.0</td>\n",
       "      <td>10.633445</td>\n",
       "      <td>2.0</td>\n",
       "      <td>0.299324</td>\n",
       "      <td>0.022274</td>\n",
       "      <td>0.0</td>\n",
       "      <td>0.0</td>\n",
       "      <td>0.000000</td>\n",
       "    </tr>\n",
       "    <tr>\n",
       "      <th>9946</th>\n",
       "      <td>53.377011</td>\n",
       "      <td>0.0</td>\n",
       "      <td>0.0</td>\n",
       "      <td>13.000000</td>\n",
       "      <td>1.0</td>\n",
       "      <td>1931.000000</td>\n",
       "      <td>0.006271</td>\n",
       "      <td>3.0</td>\n",
       "      <td>0.0</td>\n",
       "      <td>0.000000</td>\n",
       "    </tr>\n",
       "    <tr>\n",
       "      <th>9947</th>\n",
       "      <td>59.000000</td>\n",
       "      <td>0.0</td>\n",
       "      <td>7500.0</td>\n",
       "      <td>8.000000</td>\n",
       "      <td>2.0</td>\n",
       "      <td>0.360085</td>\n",
       "      <td>0.000000</td>\n",
       "      <td>0.0</td>\n",
       "      <td>0.0</td>\n",
       "      <td>-0.007831</td>\n",
       "    </tr>\n",
       "  </tbody>\n",
       "</table>\n",
       "<p>9948 rows × 10 columns</p>\n",
       "</div>"
      ],
      "text/plain": [
       "            age  number_dependent_family_members  monthly_income  \\\n",
       "0     31.000000                              2.0          3040.0   \n",
       "1     48.000000                              1.0         10800.0   \n",
       "2     42.168606                              4.0          6448.0   \n",
       "3     45.000000                              0.0          4938.0   \n",
       "4     44.000000                              3.0          3772.0   \n",
       "...         ...                              ...             ...   \n",
       "9943  48.000000                              2.0          3000.0   \n",
       "9944  58.000000                              1.0          5528.0   \n",
       "9945  52.000000                              2.0          4733.0   \n",
       "9946  53.377011                              0.0             0.0   \n",
       "9947  59.000000                              0.0          7500.0   \n",
       "\n",
       "      number_of_credit_lines  real_estate_loans  ratio_debt_payment_to_income  \\\n",
       "0                   8.000000                0.0                      0.160145   \n",
       "1                  11.000000                3.0                      0.590316   \n",
       "2                  11.000000                0.0                      0.190107   \n",
       "3                   1.000000                0.0                      0.068840   \n",
       "4                   8.000000                1.0                      0.537503   \n",
       "...                      ...                ...                           ...   \n",
       "9943                5.000000                0.0                      0.236921   \n",
       "9944               23.000000                2.0                      0.585458   \n",
       "9945               10.633445                2.0                      0.299324   \n",
       "9946               13.000000                1.0                   1931.000000   \n",
       "9947                8.000000                2.0                      0.360085   \n",
       "\n",
       "      credit_line_utilization  number_of_previous_late_payments_up_to_59_days  \\\n",
       "0                    1.227135                                             4.0   \n",
       "1                    0.975767                                             3.0   \n",
       "2                    0.865913                                             3.0   \n",
       "3                    1.000000                                             0.0   \n",
       "4                    0.207312                                             0.0   \n",
       "...                       ...                                             ...   \n",
       "9943                 0.153832                                             0.0   \n",
       "9944                 0.407709                                             0.0   \n",
       "9945                 0.022274                                             0.0   \n",
       "9946                 0.006271                                             3.0   \n",
       "9947                 0.000000                                             0.0   \n",
       "\n",
       "      number_of_previous_late_payments_up_to_89_days  \\\n",
       "0                                                0.0   \n",
       "1                                                0.0   \n",
       "2                                                1.0   \n",
       "3                                                1.0   \n",
       "4                                                0.0   \n",
       "...                                              ...   \n",
       "9943                                             0.0   \n",
       "9944                                             0.0   \n",
       "9945                                             0.0   \n",
       "9946                                             0.0   \n",
       "9947                                             0.0   \n",
       "\n",
       "      number_of_previous_late_payments_90_days_or_more  \n",
       "0                                             0.000000  \n",
       "1                                             0.000000  \n",
       "2                                             0.000000  \n",
       "3                                             2.000000  \n",
       "4                                             0.000000  \n",
       "...                                                ...  \n",
       "9943                                          0.000000  \n",
       "9944                                          0.000000  \n",
       "9945                                          0.000000  \n",
       "9946                                          0.000000  \n",
       "9947                                         -0.007831  \n",
       "\n",
       "[9948 rows x 10 columns]"
      ]
     },
     "execution_count": 141,
     "metadata": {},
     "output_type": "execute_result"
    }
   ],
   "source": [
    "X_und.drop(['index'], axis=1)"
   ]
  },
  {
   "cell_type": "code",
   "execution_count": 160,
   "metadata": {
    "scrolled": true
   },
   "outputs": [
    {
     "data": {
      "text/html": [
       "<div>\n",
       "<style scoped>\n",
       "    .dataframe tbody tr th:only-of-type {\n",
       "        vertical-align: middle;\n",
       "    }\n",
       "\n",
       "    .dataframe tbody tr th {\n",
       "        vertical-align: top;\n",
       "    }\n",
       "\n",
       "    .dataframe thead th {\n",
       "        text-align: right;\n",
       "    }\n",
       "</style>\n",
       "<table border=\"1\" class=\"dataframe\">\n",
       "  <thead>\n",
       "    <tr style=\"text-align: right;\">\n",
       "      <th></th>\n",
       "      <th>age</th>\n",
       "      <th>number_dependent_family_members</th>\n",
       "      <th>monthly_income</th>\n",
       "      <th>number_of_credit_lines</th>\n",
       "      <th>real_estate_loans</th>\n",
       "      <th>ratio_debt_payment_to_income</th>\n",
       "      <th>credit_line_utilization</th>\n",
       "      <th>number_of_previous_late_payments_up_to_59_days</th>\n",
       "      <th>number_of_previous_late_payments_up_to_89_days</th>\n",
       "      <th>number_of_previous_late_payments_90_days_or_more</th>\n",
       "    </tr>\n",
       "  </thead>\n",
       "  <tbody>\n",
       "    <tr>\n",
       "      <th>2</th>\n",
       "      <td>31.000000</td>\n",
       "      <td>2.0</td>\n",
       "      <td>3040.0</td>\n",
       "      <td>8.000000</td>\n",
       "      <td>0.0</td>\n",
       "      <td>0.160145</td>\n",
       "      <td>1.227135</td>\n",
       "      <td>4.0</td>\n",
       "      <td>0.0</td>\n",
       "      <td>0.000000</td>\n",
       "    </tr>\n",
       "    <tr>\n",
       "      <th>20</th>\n",
       "      <td>48.000000</td>\n",
       "      <td>1.0</td>\n",
       "      <td>10800.0</td>\n",
       "      <td>11.000000</td>\n",
       "      <td>3.0</td>\n",
       "      <td>0.590316</td>\n",
       "      <td>0.975767</td>\n",
       "      <td>3.0</td>\n",
       "      <td>0.0</td>\n",
       "      <td>0.000000</td>\n",
       "    </tr>\n",
       "    <tr>\n",
       "      <th>30</th>\n",
       "      <td>42.168606</td>\n",
       "      <td>4.0</td>\n",
       "      <td>6448.0</td>\n",
       "      <td>11.000000</td>\n",
       "      <td>0.0</td>\n",
       "      <td>0.190107</td>\n",
       "      <td>0.865913</td>\n",
       "      <td>3.0</td>\n",
       "      <td>1.0</td>\n",
       "      <td>0.000000</td>\n",
       "    </tr>\n",
       "    <tr>\n",
       "      <th>44</th>\n",
       "      <td>45.000000</td>\n",
       "      <td>0.0</td>\n",
       "      <td>4938.0</td>\n",
       "      <td>1.000000</td>\n",
       "      <td>0.0</td>\n",
       "      <td>0.068840</td>\n",
       "      <td>1.000000</td>\n",
       "      <td>0.0</td>\n",
       "      <td>1.0</td>\n",
       "      <td>2.000000</td>\n",
       "    </tr>\n",
       "    <tr>\n",
       "      <th>65</th>\n",
       "      <td>44.000000</td>\n",
       "      <td>3.0</td>\n",
       "      <td>3772.0</td>\n",
       "      <td>8.000000</td>\n",
       "      <td>1.0</td>\n",
       "      <td>0.537503</td>\n",
       "      <td>0.207312</td>\n",
       "      <td>0.0</td>\n",
       "      <td>0.0</td>\n",
       "      <td>0.000000</td>\n",
       "    </tr>\n",
       "    <tr>\n",
       "      <th>...</th>\n",
       "      <td>...</td>\n",
       "      <td>...</td>\n",
       "      <td>...</td>\n",
       "      <td>...</td>\n",
       "      <td>...</td>\n",
       "      <td>...</td>\n",
       "      <td>...</td>\n",
       "      <td>...</td>\n",
       "      <td>...</td>\n",
       "      <td>...</td>\n",
       "    </tr>\n",
       "    <tr>\n",
       "      <th>59353</th>\n",
       "      <td>48.000000</td>\n",
       "      <td>2.0</td>\n",
       "      <td>3000.0</td>\n",
       "      <td>5.000000</td>\n",
       "      <td>0.0</td>\n",
       "      <td>0.236921</td>\n",
       "      <td>0.153832</td>\n",
       "      <td>0.0</td>\n",
       "      <td>0.0</td>\n",
       "      <td>0.000000</td>\n",
       "    </tr>\n",
       "    <tr>\n",
       "      <th>63950</th>\n",
       "      <td>58.000000</td>\n",
       "      <td>1.0</td>\n",
       "      <td>5528.0</td>\n",
       "      <td>23.000000</td>\n",
       "      <td>2.0</td>\n",
       "      <td>0.585458</td>\n",
       "      <td>0.407709</td>\n",
       "      <td>0.0</td>\n",
       "      <td>0.0</td>\n",
       "      <td>0.000000</td>\n",
       "    </tr>\n",
       "    <tr>\n",
       "      <th>52455</th>\n",
       "      <td>52.000000</td>\n",
       "      <td>2.0</td>\n",
       "      <td>4733.0</td>\n",
       "      <td>10.633445</td>\n",
       "      <td>2.0</td>\n",
       "      <td>0.299324</td>\n",
       "      <td>0.022274</td>\n",
       "      <td>0.0</td>\n",
       "      <td>0.0</td>\n",
       "      <td>0.000000</td>\n",
       "    </tr>\n",
       "    <tr>\n",
       "      <th>67150</th>\n",
       "      <td>53.377011</td>\n",
       "      <td>0.0</td>\n",
       "      <td>0.0</td>\n",
       "      <td>13.000000</td>\n",
       "      <td>1.0</td>\n",
       "      <td>1931.000000</td>\n",
       "      <td>0.006271</td>\n",
       "      <td>3.0</td>\n",
       "      <td>0.0</td>\n",
       "      <td>0.000000</td>\n",
       "    </tr>\n",
       "    <tr>\n",
       "      <th>64537</th>\n",
       "      <td>59.000000</td>\n",
       "      <td>0.0</td>\n",
       "      <td>7500.0</td>\n",
       "      <td>8.000000</td>\n",
       "      <td>2.0</td>\n",
       "      <td>0.360085</td>\n",
       "      <td>0.000000</td>\n",
       "      <td>0.0</td>\n",
       "      <td>0.0</td>\n",
       "      <td>-0.007831</td>\n",
       "    </tr>\n",
       "  </tbody>\n",
       "</table>\n",
       "<p>9948 rows × 10 columns</p>\n",
       "</div>"
      ],
      "text/plain": [
       "             age  number_dependent_family_members  monthly_income  \\\n",
       "2      31.000000                              2.0          3040.0   \n",
       "20     48.000000                              1.0         10800.0   \n",
       "30     42.168606                              4.0          6448.0   \n",
       "44     45.000000                              0.0          4938.0   \n",
       "65     44.000000                              3.0          3772.0   \n",
       "...          ...                              ...             ...   \n",
       "59353  48.000000                              2.0          3000.0   \n",
       "63950  58.000000                              1.0          5528.0   \n",
       "52455  52.000000                              2.0          4733.0   \n",
       "67150  53.377011                              0.0             0.0   \n",
       "64537  59.000000                              0.0          7500.0   \n",
       "\n",
       "       number_of_credit_lines  real_estate_loans  \\\n",
       "2                    8.000000                0.0   \n",
       "20                  11.000000                3.0   \n",
       "30                  11.000000                0.0   \n",
       "44                   1.000000                0.0   \n",
       "65                   8.000000                1.0   \n",
       "...                       ...                ...   \n",
       "59353                5.000000                0.0   \n",
       "63950               23.000000                2.0   \n",
       "52455               10.633445                2.0   \n",
       "67150               13.000000                1.0   \n",
       "64537                8.000000                2.0   \n",
       "\n",
       "       ratio_debt_payment_to_income  credit_line_utilization  \\\n",
       "2                          0.160145                 1.227135   \n",
       "20                         0.590316                 0.975767   \n",
       "30                         0.190107                 0.865913   \n",
       "44                         0.068840                 1.000000   \n",
       "65                         0.537503                 0.207312   \n",
       "...                             ...                      ...   \n",
       "59353                      0.236921                 0.153832   \n",
       "63950                      0.585458                 0.407709   \n",
       "52455                      0.299324                 0.022274   \n",
       "67150                   1931.000000                 0.006271   \n",
       "64537                      0.360085                 0.000000   \n",
       "\n",
       "       number_of_previous_late_payments_up_to_59_days  \\\n",
       "2                                                 4.0   \n",
       "20                                                3.0   \n",
       "30                                                3.0   \n",
       "44                                                0.0   \n",
       "65                                                0.0   \n",
       "...                                               ...   \n",
       "59353                                             0.0   \n",
       "63950                                             0.0   \n",
       "52455                                             0.0   \n",
       "67150                                             3.0   \n",
       "64537                                             0.0   \n",
       "\n",
       "       number_of_previous_late_payments_up_to_89_days  \\\n",
       "2                                                 0.0   \n",
       "20                                                0.0   \n",
       "30                                                1.0   \n",
       "44                                                1.0   \n",
       "65                                                0.0   \n",
       "...                                               ...   \n",
       "59353                                             0.0   \n",
       "63950                                             0.0   \n",
       "52455                                             0.0   \n",
       "67150                                             0.0   \n",
       "64537                                             0.0   \n",
       "\n",
       "       number_of_previous_late_payments_90_days_or_more  \n",
       "2                                              0.000000  \n",
       "20                                             0.000000  \n",
       "30                                             0.000000  \n",
       "44                                             2.000000  \n",
       "65                                             0.000000  \n",
       "...                                                 ...  \n",
       "59353                                          0.000000  \n",
       "63950                                          0.000000  \n",
       "52455                                          0.000000  \n",
       "67150                                          0.000000  \n",
       "64537                                         -0.007831  \n",
       "\n",
       "[9948 rows x 10 columns]"
      ]
     },
     "execution_count": 160,
     "metadata": {},
     "output_type": "execute_result"
    }
   ],
   "source": [
    "X_und"
   ]
  },
  {
   "cell_type": "code",
   "execution_count": null,
   "metadata": {},
   "outputs": [],
   "source": []
  },
  {
   "cell_type": "code",
   "execution_count": null,
   "metadata": {},
   "outputs": [],
   "source": []
  },
  {
   "cell_type": "code",
   "execution_count": null,
   "metadata": {},
   "outputs": [],
   "source": []
  },
  {
   "cell_type": "markdown",
   "metadata": {},
   "source": [
    "Lets upload test.csv and make submission"
   ]
  },
  {
   "cell_type": "code",
   "execution_count": 34,
   "metadata": {},
   "outputs": [],
   "source": [
    "test = pd.read_csv('test.csv')"
   ]
  },
  {
   "cell_type": "code",
   "execution_count": 35,
   "metadata": {
    "scrolled": true
   },
   "outputs": [
    {
     "data": {
      "text/html": [
       "<div>\n",
       "<style scoped>\n",
       "    .dataframe tbody tr th:only-of-type {\n",
       "        vertical-align: middle;\n",
       "    }\n",
       "\n",
       "    .dataframe tbody tr th {\n",
       "        vertical-align: top;\n",
       "    }\n",
       "\n",
       "    .dataframe thead th {\n",
       "        text-align: right;\n",
       "    }\n",
       "</style>\n",
       "<table border=\"1\" class=\"dataframe\">\n",
       "  <thead>\n",
       "    <tr style=\"text-align: right;\">\n",
       "      <th></th>\n",
       "      <th>Id</th>\n",
       "      <th>age</th>\n",
       "      <th>number_dependent_family_members</th>\n",
       "      <th>monthly_income</th>\n",
       "      <th>number_of_credit_lines</th>\n",
       "      <th>real_estate_loans</th>\n",
       "      <th>ratio_debt_payment_to_income</th>\n",
       "      <th>credit_line_utilization</th>\n",
       "      <th>number_of_previous_late_payments_up_to_59_days</th>\n",
       "      <th>number_of_previous_late_payments_up_to_89_days</th>\n",
       "      <th>number_of_previous_late_payments_90_days_or_more</th>\n",
       "    </tr>\n",
       "  </thead>\n",
       "  <tbody>\n",
       "    <tr>\n",
       "      <th>0</th>\n",
       "      <td>1</td>\n",
       "      <td>30.0</td>\n",
       "      <td>2.0</td>\n",
       "      <td>2200.0</td>\n",
       "      <td>0.0</td>\n",
       "      <td>0.0</td>\n",
       "      <td>0.000000</td>\n",
       "      <td>0.9999998999999999</td>\n",
       "      <td>NaN</td>\n",
       "      <td>0.0</td>\n",
       "      <td>0.0</td>\n",
       "    </tr>\n",
       "    <tr>\n",
       "      <th>1</th>\n",
       "      <td>2</td>\n",
       "      <td>25.0</td>\n",
       "      <td>2.0</td>\n",
       "      <td>1500.0</td>\n",
       "      <td>3.0</td>\n",
       "      <td>0.0</td>\n",
       "      <td>0.269820</td>\n",
       "      <td>NaN</td>\n",
       "      <td>1.0</td>\n",
       "      <td>1.0</td>\n",
       "      <td>3.0</td>\n",
       "    </tr>\n",
       "    <tr>\n",
       "      <th>2</th>\n",
       "      <td>3</td>\n",
       "      <td>48.0</td>\n",
       "      <td>2.0</td>\n",
       "      <td>7163.0</td>\n",
       "      <td>12.0</td>\n",
       "      <td>0.0</td>\n",
       "      <td>0.011865</td>\n",
       "      <td>0.065853835</td>\n",
       "      <td>0.0</td>\n",
       "      <td>0.0</td>\n",
       "      <td>0.0</td>\n",
       "    </tr>\n",
       "    <tr>\n",
       "      <th>3</th>\n",
       "      <td>4</td>\n",
       "      <td>57.0</td>\n",
       "      <td>0.0</td>\n",
       "      <td>6214.0</td>\n",
       "      <td>6.0</td>\n",
       "      <td>1.0</td>\n",
       "      <td>0.423652</td>\n",
       "      <td>NaN</td>\n",
       "      <td>0.0</td>\n",
       "      <td>0.0</td>\n",
       "      <td>0.0</td>\n",
       "    </tr>\n",
       "    <tr>\n",
       "      <th>4</th>\n",
       "      <td>5</td>\n",
       "      <td>41.0</td>\n",
       "      <td>0.0</td>\n",
       "      <td>1438.0</td>\n",
       "      <td>5.0</td>\n",
       "      <td>0.0</td>\n",
       "      <td>0.282835</td>\n",
       "      <td>0.937578027</td>\n",
       "      <td>2.0</td>\n",
       "      <td>0.0</td>\n",
       "      <td>0.0</td>\n",
       "    </tr>\n",
       "  </tbody>\n",
       "</table>\n",
       "</div>"
      ],
      "text/plain": [
       "   Id   age  number_dependent_family_members  monthly_income  \\\n",
       "0   1  30.0                              2.0          2200.0   \n",
       "1   2  25.0                              2.0          1500.0   \n",
       "2   3  48.0                              2.0          7163.0   \n",
       "3   4  57.0                              0.0          6214.0   \n",
       "4   5  41.0                              0.0          1438.0   \n",
       "\n",
       "   number_of_credit_lines  real_estate_loans  ratio_debt_payment_to_income  \\\n",
       "0                     0.0                0.0                      0.000000   \n",
       "1                     3.0                0.0                      0.269820   \n",
       "2                    12.0                0.0                      0.011865   \n",
       "3                     6.0                1.0                      0.423652   \n",
       "4                     5.0                0.0                      0.282835   \n",
       "\n",
       "  credit_line_utilization  number_of_previous_late_payments_up_to_59_days  \\\n",
       "0      0.9999998999999999                                             NaN   \n",
       "1                     NaN                                             1.0   \n",
       "2             0.065853835                                             0.0   \n",
       "3                     NaN                                             0.0   \n",
       "4             0.937578027                                             2.0   \n",
       "\n",
       "   number_of_previous_late_payments_up_to_89_days  \\\n",
       "0                                             0.0   \n",
       "1                                             1.0   \n",
       "2                                             0.0   \n",
       "3                                             0.0   \n",
       "4                                             0.0   \n",
       "\n",
       "   number_of_previous_late_payments_90_days_or_more  \n",
       "0                                               0.0  \n",
       "1                                               3.0  \n",
       "2                                               0.0  \n",
       "3                                               0.0  \n",
       "4                                               0.0  "
      ]
     },
     "execution_count": 35,
     "metadata": {},
     "output_type": "execute_result"
    }
   ],
   "source": [
    "test.head()"
   ]
  },
  {
   "cell_type": "code",
   "execution_count": 37,
   "metadata": {},
   "outputs": [
    {
     "name": "stdout",
     "output_type": "stream",
     "text": [
      "<class 'pandas.core.frame.DataFrame'>\n",
      "RangeIndex: 48108 entries, 0 to 48107\n",
      "Data columns (total 11 columns):\n",
      " #   Column                                            Non-Null Count  Dtype  \n",
      "---  ------                                            --------------  -----  \n",
      " 0   Id                                                48108 non-null  int64  \n",
      " 1   age                                               43270 non-null  float64\n",
      " 2   number_dependent_family_members                   45320 non-null  float64\n",
      " 3   monthly_income                                    43994 non-null  float64\n",
      " 4   number_of_credit_lines                            43990 non-null  float64\n",
      " 5   real_estate_loans                                 45649 non-null  float64\n",
      " 6   ratio_debt_payment_to_income                      44344 non-null  float64\n",
      " 7   credit_line_utilization                           43798 non-null  object \n",
      " 8   number_of_previous_late_payments_up_to_59_days    45296 non-null  float64\n",
      " 9   number_of_previous_late_payments_up_to_89_days    44175 non-null  float64\n",
      " 10  number_of_previous_late_payments_90_days_or_more  45654 non-null  float64\n",
      "dtypes: float64(9), int64(1), object(1)\n",
      "memory usage: 4.0+ MB\n"
     ]
    }
   ],
   "source": [
    "test.info()"
   ]
  },
  {
   "cell_type": "code",
   "execution_count": 38,
   "metadata": {},
   "outputs": [],
   "source": [
    "test['credit_line_utilization'] = test['credit_line_utilization'].str.replace(',', '.').astype(float)"
   ]
  },
  {
   "cell_type": "code",
   "execution_count": 39,
   "metadata": {
    "scrolled": true
   },
   "outputs": [
    {
     "name": "stdout",
     "output_type": "stream",
     "text": [
      "<class 'pandas.core.frame.DataFrame'>\n",
      "RangeIndex: 48108 entries, 0 to 48107\n",
      "Data columns (total 11 columns):\n",
      " #   Column                                            Non-Null Count  Dtype  \n",
      "---  ------                                            --------------  -----  \n",
      " 0   Id                                                48108 non-null  int64  \n",
      " 1   age                                               43270 non-null  float64\n",
      " 2   number_dependent_family_members                   45320 non-null  float64\n",
      " 3   monthly_income                                    43994 non-null  float64\n",
      " 4   number_of_credit_lines                            43990 non-null  float64\n",
      " 5   real_estate_loans                                 45649 non-null  float64\n",
      " 6   ratio_debt_payment_to_income                      44344 non-null  float64\n",
      " 7   credit_line_utilization                           43798 non-null  float64\n",
      " 8   number_of_previous_late_payments_up_to_59_days    45296 non-null  float64\n",
      " 9   number_of_previous_late_payments_up_to_89_days    44175 non-null  float64\n",
      " 10  number_of_previous_late_payments_90_days_or_more  45654 non-null  float64\n",
      "dtypes: float64(10), int64(1)\n",
      "memory usage: 4.0 MB\n"
     ]
    }
   ],
   "source": [
    "test.info()"
   ]
  },
  {
   "cell_type": "code",
   "execution_count": 41,
   "metadata": {},
   "outputs": [
    {
     "data": {
      "text/plain": [
       "Index(['age', 'number_dependent_family_members', 'monthly_income',\n",
       "       'number_of_credit_lines', 'real_estate_loans',\n",
       "       'ratio_debt_payment_to_income', 'credit_line_utilization',\n",
       "       'number_of_previous_late_payments_up_to_59_days',\n",
       "       'number_of_previous_late_payments_up_to_89_days',\n",
       "       'number_of_previous_late_payments_90_days_or_more'],\n",
       "      dtype='object')"
      ]
     },
     "execution_count": 41,
     "metadata": {},
     "output_type": "execute_result"
    }
   ],
   "source": [
    "columns"
   ]
  },
  {
   "cell_type": "code",
   "execution_count": 43,
   "metadata": {},
   "outputs": [],
   "source": [
    "imp_mean = IterativeImputer(random_state=0)\n",
    "X_imputed = imp_mean.fit_transform(test.iloc[:, 1:])\n",
    "X_imputed = pd.DataFrame(X_imputed)\n",
    "X_imputed.columns = columns\n",
    "test = X_imputed"
   ]
  },
  {
   "cell_type": "code",
   "execution_count": 82,
   "metadata": {},
   "outputs": [],
   "source": [
    "test_prediction = pipe.predict(test)"
   ]
  },
  {
   "cell_type": "code",
   "execution_count": 49,
   "metadata": {},
   "outputs": [
    {
     "data": {
      "text/plain": [
       "(48108,)"
      ]
     },
     "execution_count": 49,
     "metadata": {},
     "output_type": "execute_result"
    }
   ],
   "source": [
    "test_prediction.shape"
   ]
  },
  {
   "cell_type": "code",
   "execution_count": 83,
   "metadata": {},
   "outputs": [],
   "source": [
    "submission = pd.DataFrame({'Predicted':test_prediction})"
   ]
  },
  {
   "cell_type": "code",
   "execution_count": 88,
   "metadata": {},
   "outputs": [
    {
     "data": {
      "text/html": [
       "<div>\n",
       "<style scoped>\n",
       "    .dataframe tbody tr th:only-of-type {\n",
       "        vertical-align: middle;\n",
       "    }\n",
       "\n",
       "    .dataframe tbody tr th {\n",
       "        vertical-align: top;\n",
       "    }\n",
       "\n",
       "    .dataframe thead th {\n",
       "        text-align: right;\n",
       "    }\n",
       "</style>\n",
       "<table border=\"1\" class=\"dataframe\">\n",
       "  <thead>\n",
       "    <tr style=\"text-align: right;\">\n",
       "      <th></th>\n",
       "      <th>Id</th>\n",
       "      <th>Predicted</th>\n",
       "    </tr>\n",
       "  </thead>\n",
       "  <tbody>\n",
       "    <tr>\n",
       "      <th>0</th>\n",
       "      <td>1</td>\n",
       "      <td>0</td>\n",
       "    </tr>\n",
       "    <tr>\n",
       "      <th>1</th>\n",
       "      <td>2</td>\n",
       "      <td>1</td>\n",
       "    </tr>\n",
       "    <tr>\n",
       "      <th>2</th>\n",
       "      <td>3</td>\n",
       "      <td>1</td>\n",
       "    </tr>\n",
       "    <tr>\n",
       "      <th>3</th>\n",
       "      <td>4</td>\n",
       "      <td>0</td>\n",
       "    </tr>\n",
       "    <tr>\n",
       "      <th>4</th>\n",
       "      <td>5</td>\n",
       "      <td>1</td>\n",
       "    </tr>\n",
       "    <tr>\n",
       "      <th>...</th>\n",
       "      <td>...</td>\n",
       "      <td>...</td>\n",
       "    </tr>\n",
       "    <tr>\n",
       "      <th>48103</th>\n",
       "      <td>48104</td>\n",
       "      <td>1</td>\n",
       "    </tr>\n",
       "    <tr>\n",
       "      <th>48104</th>\n",
       "      <td>48105</td>\n",
       "      <td>1</td>\n",
       "    </tr>\n",
       "    <tr>\n",
       "      <th>48105</th>\n",
       "      <td>48106</td>\n",
       "      <td>0</td>\n",
       "    </tr>\n",
       "    <tr>\n",
       "      <th>48106</th>\n",
       "      <td>48107</td>\n",
       "      <td>0</td>\n",
       "    </tr>\n",
       "    <tr>\n",
       "      <th>48107</th>\n",
       "      <td>48108</td>\n",
       "      <td>0</td>\n",
       "    </tr>\n",
       "  </tbody>\n",
       "</table>\n",
       "<p>48108 rows × 2 columns</p>\n",
       "</div>"
      ],
      "text/plain": [
       "          Id  Predicted\n",
       "0          1          0\n",
       "1          2          1\n",
       "2          3          1\n",
       "3          4          0\n",
       "4          5          1\n",
       "...      ...        ...\n",
       "48103  48104          1\n",
       "48104  48105          1\n",
       "48105  48106          0\n",
       "48106  48107          0\n",
       "48107  48108          0\n",
       "\n",
       "[48108 rows x 2 columns]"
      ]
     },
     "execution_count": 88,
     "metadata": {},
     "output_type": "execute_result"
    }
   ],
   "source": [
    "submission"
   ]
  },
  {
   "cell_type": "code",
   "execution_count": 85,
   "metadata": {},
   "outputs": [],
   "source": [
    "submission = submission.set_index(pd.Index(np.arange(1, 48109))).reset_index()"
   ]
  },
  {
   "cell_type": "code",
   "execution_count": 87,
   "metadata": {},
   "outputs": [],
   "source": [
    "submission = submission.rename(columns={'index': 'Id'})"
   ]
  },
  {
   "cell_type": "code",
   "execution_count": 92,
   "metadata": {},
   "outputs": [],
   "source": [
    "submission.reset_index(drop=True, inplace=True)"
   ]
  },
  {
   "cell_type": "code",
   "execution_count": 94,
   "metadata": {},
   "outputs": [],
   "source": [
    "submission.to_csv('submission.csv')"
   ]
  },
  {
   "cell_type": "code",
   "execution_count": 50,
   "metadata": {},
   "outputs": [
    {
     "data": {
      "text/html": [
       "<div>\n",
       "<style scoped>\n",
       "    .dataframe tbody tr th:only-of-type {\n",
       "        vertical-align: middle;\n",
       "    }\n",
       "\n",
       "    .dataframe tbody tr th {\n",
       "        vertical-align: top;\n",
       "    }\n",
       "\n",
       "    .dataframe thead th {\n",
       "        text-align: right;\n",
       "    }\n",
       "</style>\n",
       "<table border=\"1\" class=\"dataframe\">\n",
       "  <thead>\n",
       "    <tr style=\"text-align: right;\">\n",
       "      <th></th>\n",
       "      <th>Id</th>\n",
       "      <th>Predicted</th>\n",
       "    </tr>\n",
       "  </thead>\n",
       "  <tbody>\n",
       "    <tr>\n",
       "      <th>0</th>\n",
       "      <td>1</td>\n",
       "      <td>0.5</td>\n",
       "    </tr>\n",
       "    <tr>\n",
       "      <th>1</th>\n",
       "      <td>2</td>\n",
       "      <td>0.5</td>\n",
       "    </tr>\n",
       "    <tr>\n",
       "      <th>2</th>\n",
       "      <td>3</td>\n",
       "      <td>0.5</td>\n",
       "    </tr>\n",
       "    <tr>\n",
       "      <th>3</th>\n",
       "      <td>4</td>\n",
       "      <td>0.5</td>\n",
       "    </tr>\n",
       "    <tr>\n",
       "      <th>4</th>\n",
       "      <td>5</td>\n",
       "      <td>0.5</td>\n",
       "    </tr>\n",
       "    <tr>\n",
       "      <th>...</th>\n",
       "      <td>...</td>\n",
       "      <td>...</td>\n",
       "    </tr>\n",
       "    <tr>\n",
       "      <th>48103</th>\n",
       "      <td>48104</td>\n",
       "      <td>0.5</td>\n",
       "    </tr>\n",
       "    <tr>\n",
       "      <th>48104</th>\n",
       "      <td>48105</td>\n",
       "      <td>0.5</td>\n",
       "    </tr>\n",
       "    <tr>\n",
       "      <th>48105</th>\n",
       "      <td>48106</td>\n",
       "      <td>0.5</td>\n",
       "    </tr>\n",
       "    <tr>\n",
       "      <th>48106</th>\n",
       "      <td>48107</td>\n",
       "      <td>0.5</td>\n",
       "    </tr>\n",
       "    <tr>\n",
       "      <th>48107</th>\n",
       "      <td>48108</td>\n",
       "      <td>0.5</td>\n",
       "    </tr>\n",
       "  </tbody>\n",
       "</table>\n",
       "<p>48108 rows × 2 columns</p>\n",
       "</div>"
      ],
      "text/plain": [
       "          Id  Predicted\n",
       "0          1        0.5\n",
       "1          2        0.5\n",
       "2          3        0.5\n",
       "3          4        0.5\n",
       "4          5        0.5\n",
       "...      ...        ...\n",
       "48103  48104        0.5\n",
       "48104  48105        0.5\n",
       "48105  48106        0.5\n",
       "48106  48107        0.5\n",
       "48107  48108        0.5\n",
       "\n",
       "[48108 rows x 2 columns]"
      ]
     },
     "execution_count": 50,
     "metadata": {},
     "output_type": "execute_result"
    }
   ],
   "source": [
    "pd.read_csv('sample_submission.csv')"
   ]
  },
  {
   "cell_type": "code",
   "execution_count": 93,
   "metadata": {},
   "outputs": [
    {
     "data": {
      "text/html": [
       "<div>\n",
       "<style scoped>\n",
       "    .dataframe tbody tr th:only-of-type {\n",
       "        vertical-align: middle;\n",
       "    }\n",
       "\n",
       "    .dataframe tbody tr th {\n",
       "        vertical-align: top;\n",
       "    }\n",
       "\n",
       "    .dataframe thead th {\n",
       "        text-align: right;\n",
       "    }\n",
       "</style>\n",
       "<table border=\"1\" class=\"dataframe\">\n",
       "  <thead>\n",
       "    <tr style=\"text-align: right;\">\n",
       "      <th></th>\n",
       "      <th>Id</th>\n",
       "      <th>Predicted</th>\n",
       "    </tr>\n",
       "  </thead>\n",
       "  <tbody>\n",
       "    <tr>\n",
       "      <th>0</th>\n",
       "      <td>1</td>\n",
       "      <td>0</td>\n",
       "    </tr>\n",
       "    <tr>\n",
       "      <th>1</th>\n",
       "      <td>2</td>\n",
       "      <td>1</td>\n",
       "    </tr>\n",
       "    <tr>\n",
       "      <th>2</th>\n",
       "      <td>3</td>\n",
       "      <td>1</td>\n",
       "    </tr>\n",
       "    <tr>\n",
       "      <th>3</th>\n",
       "      <td>4</td>\n",
       "      <td>0</td>\n",
       "    </tr>\n",
       "    <tr>\n",
       "      <th>4</th>\n",
       "      <td>5</td>\n",
       "      <td>1</td>\n",
       "    </tr>\n",
       "    <tr>\n",
       "      <th>...</th>\n",
       "      <td>...</td>\n",
       "      <td>...</td>\n",
       "    </tr>\n",
       "    <tr>\n",
       "      <th>48103</th>\n",
       "      <td>48104</td>\n",
       "      <td>1</td>\n",
       "    </tr>\n",
       "    <tr>\n",
       "      <th>48104</th>\n",
       "      <td>48105</td>\n",
       "      <td>1</td>\n",
       "    </tr>\n",
       "    <tr>\n",
       "      <th>48105</th>\n",
       "      <td>48106</td>\n",
       "      <td>0</td>\n",
       "    </tr>\n",
       "    <tr>\n",
       "      <th>48106</th>\n",
       "      <td>48107</td>\n",
       "      <td>0</td>\n",
       "    </tr>\n",
       "    <tr>\n",
       "      <th>48107</th>\n",
       "      <td>48108</td>\n",
       "      <td>0</td>\n",
       "    </tr>\n",
       "  </tbody>\n",
       "</table>\n",
       "<p>48108 rows × 2 columns</p>\n",
       "</div>"
      ],
      "text/plain": [
       "          Id  Predicted\n",
       "0          1          0\n",
       "1          2          1\n",
       "2          3          1\n",
       "3          4          0\n",
       "4          5          1\n",
       "...      ...        ...\n",
       "48103  48104          1\n",
       "48104  48105          1\n",
       "48105  48106          0\n",
       "48106  48107          0\n",
       "48107  48108          0\n",
       "\n",
       "[48108 rows x 2 columns]"
      ]
     },
     "execution_count": 93,
     "metadata": {},
     "output_type": "execute_result"
    }
   ],
   "source": [
    "submission"
   ]
  }
 ],
 "metadata": {
  "kernelspec": {
   "display_name": "Python 3",
   "language": "python",
   "name": "python3"
  },
  "language_info": {
   "codemirror_mode": {
    "name": "ipython",
    "version": 3
   },
   "file_extension": ".py",
   "mimetype": "text/x-python",
   "name": "python",
   "nbconvert_exporter": "python",
   "pygments_lexer": "ipython3",
   "version": "3.8.8"
  }
 },
 "nbformat": 4,
 "nbformat_minor": 4
}
